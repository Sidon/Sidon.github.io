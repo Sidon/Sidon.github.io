{
 "cells": [
  {
   "cell_type": "code",
   "execution_count": 53,
   "metadata": {
    "collapsed": true
   },
   "outputs": [],
   "source": [
    "# -*- coding: utf-8 -*-\n",
    "\"\"\"\n",
    "Created on Sun august 13 12:35:39 2016\n",
    "@author: Sidon\n",
    "\"\"\"\n",
    "%matplotlib inline\n",
    "import pandas as pd\n",
    "import numpy as np\n",
    "from collections import OrderedDict\n",
    "from tabulate import tabulate, tabulate_formats\n",
    "import seaborn\n",
    "import matplotlib.pyplot as plt\n",
    "import scipy.stats\n",
    "\n",
    "# bug fix for display formats to avoid run time errors\n",
    "pd.set_option('display.float_format', lambda x:'%f'%x)\n",
    "\n",
    "# Load from CSV\n",
    "data1 = pd.read_csv('gapminder.csv', skip_blank_lines=True,\n",
    "                    usecols=['country','alcconsumption', 'lifeexpectancy'])\n",
    " \n",
    "# Rename columns for clarity                                    \n",
    "data1.columns = ['country','alcohol','life']\n",
    "\n",
    "# Variables Descriptions\n",
    "ALCOHOL = \"2008 alcohol consumption per adult (liters, age 15+)\"\n",
    "LIFE = \"2011 life expectancy at birth (years)\"\n",
    "\n",
    "# converting to numeric values and parsing (numeric invalids=NaN)\n",
    "for dt in ('alcohol','life') :\n",
    "   data1[dt] = pd.to_numeric(data1[dt], 'errors=coerce') \n",
    "\n",
    "# Remove rows with nan values\n",
    "data1 = data1.dropna(axis=0, how='any')\n",
    "\n",
    "# Copy dataframe for univariate categorical variables\n",
    "data2 = data1.copy()"
   ]
  },
  {
   "cell_type": "markdown",
   "metadata": {},
   "source": [
    "### Assigment 3\n",
    "The third assignment deals with correlation coefficient. A correlation coefficient assesses the degree of linear relationship between two variables. It ranges from +1 to -1. A correlation of +1 means that there is a perfect, positive, linear relationship between the two variables. A correlation of -1 means there is a perfect, negative linear relationship between the two variables. In both cases, knowing the value of one variable, we can perfectly predict the value of the second. "
   ]
  },
  {
   "cell_type": "markdown",
   "metadata": {},
   "source": [
    "### Variables\n",
    "Details of my project can seeing [here](https://sidon.github.io/data-visualization-week1/), to get easier, I \n",
    "made a summary bellow:\n",
    "\n",
    "|Variable Name|Description|\n",
    "|-------------|-----------|\n",
    "|Life         |Explanatory Variable: Life Expectancy (1)|\n",
    "|Alcohol      |Response Varialbe: Alcohol Consumption (2)|\n",
    "\n",
    "(1) 2008 alcohol consumption per adult (liters, age 15+)\n",
    "(2) 2011 life expectancy at birth (years)"
   ]
  },
  {
   "cell_type": "markdown",
   "metadata": {},
   "source": [
    "### Correlation Coeficient\n",
    "The association between life expectancy and alcohol consumption is very weak (less than 0.5), thus, the\n",
    "square r show us this weakness."
   ]
  },
  {
   "cell_type": "code",
   "execution_count": 65,
   "metadata": {
    "collapsed": false
   },
   "outputs": [
    {
     "name": "stdout",
     "output_type": "stream",
     "text": [
      "╒═══════════════════════════╤═════════════╤═══════════╕\n",
      "│   Correlation coefficient │     P-value │        r² │\n",
      "╞═══════════════════════════╪═════════════╪═══════════╡\n",
      "│                  0.312994 │ 2.34203e-05 │ 0.0979652 │\n",
      "╘═══════════════════════════╧═════════════╧═══════════╛\n"
     ]
    }
   ],
   "source": [
    "r1 = scipy.stats.pearsonr(data1['life'], data1['alcohol'])\n",
    "r1 = list(r1)\n",
    "r1.insert(2,r1[0]*r1[0])\n",
    "print (tabulate([r1], tablefmt=\"fancy_grid\", \n",
    "                headers=['Correlation coefficient', 'P-value', 'r²'] ))"
   ]
  },
  {
   "cell_type": "markdown",
   "metadata": {},
   "source": [
    "The correlation is approximately 0.31 with a very small p-value, this indicate that the realationship\n",
    "is statistically signficant."
   ]
  },
  {
   "cell_type": "markdown",
   "metadata": {
    "collapsed": true
   },
   "source": [
    "### Scatter Plot\n",
    "To reforce the results of correlation coefficient, I ploted the the scatter plot, where \n",
    "show us a positive line that demonstrate the dispersion of dots, idicating the weekness of correlation off\n",
    "the two variables."
   ]
  },
  {
   "cell_type": "code",
   "execution_count": 55,
   "metadata": {
    "collapsed": false
   },
   "outputs": [
    {
     "data": {
      "image/png": "[encoded data removed]",
      "text/plain": [
       "<matplotlib.figure.Figure at 0x7fe8feba9390>"
      ]
     },
     "metadata": {},
     "output_type": "display_data"
    }
   ],
   "source": [
    "# basic scatterplot Q->Q\n",
    "scat1 = seaborn.regplot(x=\"alcohol\", y=\"life\", fit_reg=True, data=data1)\n",
    "plt.xlabel('Alcohol Consumption')\n",
    "plt.ylabel('Life Expectancy')\n",
    "plt.title('Scatterplot for the Association Between Life Expectancy and Alcohol Consumption')\n",
    "plt.show()"
   ]
  }
 ],
 "metadata": {
  "anaconda-cloud": {
   "attach-environment": true,
   "environment": "Root",
   "summary": "Data Management and Visualization Submit 4 | Sidon | 2016",
   "url": "https://anaconda.org/sidon/submitw4"
  },
  "kernelspec": {
   "display_name": "Python [Root]",
   "language": "python",
   "name": "Python [Root]"
  },
  "language_info": {
   "codemirror_mode": {
    "name": "ipython",
    "version": 3
   },
   "file_extension": ".py",
   "mimetype": "text/x-python",
   "name": "python",
   "nbconvert_exporter": "python",
   "pygments_lexer": "ipython3",
   "version": "3.5.1"
  }
 },
 "nbformat": 4,
 "nbformat_minor": 0
}
