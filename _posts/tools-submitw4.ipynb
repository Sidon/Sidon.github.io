{
 "cells": [
  {
   "cell_type": "code",
   "execution_count": 35,
   "metadata": {
    "collapsed": false
   },
   "outputs": [],
   "source": [
    "# -*- coding: utf-8 -*-\n",
    "\"\"\"\n",
    "Created on Sun august 21 14:35:15 2016\n",
    "@author: Sidon\n",
    "\"\"\"\n",
    "%matplotlib inline\n",
    "import pandas as pd\n",
    "import numpy as np\n",
    "from collections import OrderedDict\n",
    "from tabulate import tabulate, tabulate_formats\n",
    "import seaborn\n",
    "import matplotlib.pyplot as plt\n",
    "import scipy.stats\n",
    "\n",
    "# bug fix for display formats to avoid run time errors\n",
    "pd.set_option('display.float_format', lambda x:'%f'%x)\n",
    "\n",
    "# Load from CSV\n",
    "data1 = pd.read_csv('~/dev/coursera/gapminder.csv', skip_blank_lines=True,\n",
    "                     usecols=['country','incomeperperson',\n",
    "                              'alcconsumption', 'lifeexpectancy'])\n",
    " \n",
    "# Rename columns for clarity                                    \n",
    "data1.columns = ['country','income','alcohol','life']\n",
    "\n",
    "# Variables Descriptions\n",
    "INCOME = \"2010 Gross Domestic Product per capita in constant 2000 US$\"\n",
    "ALCOHOL = \"2008 alcohol consumption per adult (liters, age 15+)\"\n",
    "LIFE = \"2011 life expectancy at birth (years)\"\n",
    "\n",
    "\n",
    "# converting to numeric values and parsing (numeric invalids=NaN)\n",
    "for dt in ('alcohol','income', 'life') :\n",
    "   data1[dt] = pd.to_numeric(data1[dt], 'errors=coerce') \n",
    "\n",
    "# Remove rows with nan values\n",
    "data1 = data1.dropna(axis=0, how='any')\n",
    "\n",
    "# Copy dataframe for univariate categorical variables\n",
    "data2 = data1.copy()"
   ]
  },
  {
   "cell_type": "markdown",
   "metadata": {},
   "source": [
    "### Variaveis:\n",
    "|Explanatory|Response|Moderator|\n",
    "|-----------:|-------:|--------:|\n",
    "|Alcohol|Life|income\n",
    "\n",
    "### Question\n",
    "The income level effect direction or strength of the relationship between \n",
    "alcohol consumption and life expectancy?"
   ]
  },
  {
   "cell_type": "markdown",
   "metadata": {},
   "source": [
    "### Creating Categorical Variables\n",
    "Now is the time to create the categorical variables, for this, I calculate \n",
    "the min and max values of each variable. "
   ]
  },
  {
   "cell_type": "code",
   "execution_count": 39,
   "metadata": {
    "collapsed": false
   },
   "outputs": [
    {
     "name": "stdout",
     "output_type": "stream",
     "text": [
      "Means\n",
      "╒═══════════╤══════════╕\n",
      "│   alcohol │   income │\n",
      "╞═══════════╪══════════╡\n",
      "│   6.78409 │  7006.36 │\n",
      "╘═══════════╧══════════╛\n"
     ]
    }
   ],
   "source": [
    "means = {}\n",
    "means['alcohol'] = data1.alcohol.mean()\n",
    "means['income'] =  data1.income.mean()\n",
    "\n",
    "print ('Means')\n",
    "print (tabulate([[m for m in means.values()]], tablefmt=\"fancy_grid\", \n",
    "                headers=[k for k in means.keys()]))"
   ]
  },
  {
   "cell_type": "code",
   "execution_count": 37,
   "metadata": {
    "collapsed": false
   },
   "outputs": [],
   "source": [
    "# Create categorical variable alcohol (Two levels based on mean)\n",
    "\n",
    "min_a = data1.alcohol.min()\n",
    "max_a = data1.alcohol.max()\n",
    "\n",
    "data2['alcohol'] = pd.cut(data1.alcohol, [np.floor(min_a),means['alcohol'],np.ceil(max_a)], \n",
    "                       labels=['<=6.8', '>6.8'])\n",
    "\n",
    "data2[\"alcohol\"] = data2[\"alcohol\"].astype('category')"
   ]
  },
  {
   "cell_type": "code",
   "execution_count": 41,
   "metadata": {
    "collapsed": false
   },
   "outputs": [
    {
     "name": "stdout",
     "output_type": "stream",
     "text": [
      "                    country  income alcohol      life\n",
      "1                   Albania  <=7006    >6.8 76.918000\n",
      "2                   Algeria  <=7006   <=6.8 73.131000\n",
      "4                    Angola  <=7006   <=6.8 51.093000\n",
      "6                 Argentina   >7006    >6.8 75.901000\n",
      "7                   Armenia  <=7006    >6.8 74.241000\n",
      "9                 Australia   >7006    >6.8 81.907000\n",
      "10                  Austria   >7006    >6.8 80.854000\n",
      "11               Azerbaijan  <=7006    >6.8 70.739000\n",
      "12                  Bahamas   >7006    >6.8 75.620000\n",
      "13                  Bahrain   >7006   <=6.8 75.057000\n",
      "14               Bangladesh  <=7006   <=6.8 68.944000\n",
      "15                 Barbados   >7006   <=6.8 76.835000\n",
      "16                  Belarus  <=7006    >6.8 70.349000\n",
      "17                  Belgium   >7006    >6.8 80.009000\n",
      "18                   Belize  <=7006   <=6.8 76.072000\n",
      "19                    Benin  <=7006   <=6.8 56.081000\n",
      "21                   Bhutan  <=7006   <=6.8 67.185000\n",
      "22                  Bolivia  <=7006   <=6.8 66.618000\n",
      "23   Bosnia and Herzegovina  <=7006    >6.8 75.670000\n",
      "24                 Botswana  <=7006    >6.8 53.183000\n",
      "25                   Brazil  <=7006    >6.8 73.488000\n",
      "26                   Brunei   >7006   <=6.8 78.005000\n",
      "27                 Bulgaria  <=7006    >6.8 73.371000\n",
      "28             Burkina Faso  <=7006    >6.8 55.439000\n",
      "29                  Burundi  <=7006    >6.8 50.411000\n",
      "30                 Cambodia  <=7006   <=6.8 63.125000\n",
      "31                 Cameroon  <=7006    >6.8 51.610000\n",
      "32                   Canada   >7006    >6.8 81.012000\n",
      "33               Cape Verde  <=7006   <=6.8 74.156000\n",
      "35     Central African Rep.  <=7006   <=6.8 48.398000\n",
      "..                      ...     ...     ...       ...\n",
      "180               Sri Lanka  <=7006   <=6.8 74.941000\n",
      "181                   Sudan  <=7006   <=6.8 61.452000\n",
      "182                Suriname  <=7006   <=6.8 70.563000\n",
      "183               Swaziland  <=7006   <=6.8 48.718000\n",
      "184                  Sweden   >7006    >6.8 81.439000\n",
      "185             Switzerland   >7006    >6.8 82.338000\n",
      "186                   Syria  <=7006   <=6.8 75.850000\n",
      "188              Tajikistan  <=7006   <=6.8 67.529000\n",
      "189                Tanzania  <=7006    >6.8 58.199000\n",
      "190                Thailand  <=7006    >6.8 74.126000\n",
      "191             Timor-Leste  <=7006   <=6.8 62.475000\n",
      "192                    Togo  <=7006   <=6.8 57.062000\n",
      "193                   Tonga  <=7006   <=6.8 72.317000\n",
      "194     Trinidad and Tobago   >7006   <=6.8 70.124000\n",
      "195                 Tunisia  <=7006   <=6.8 74.515000\n",
      "196                  Turkey  <=7006   <=6.8 73.979000\n",
      "197            Turkmenistan  <=7006   <=6.8 64.986000\n",
      "199                  Uganda  <=7006    >6.8 54.116000\n",
      "200                 Ukraine  <=7006    >6.8 68.494000\n",
      "201    United Arab Emirates   >7006   <=6.8 76.546000\n",
      "202          United Kingdom   >7006    >6.8 80.170000\n",
      "203           United States   >7006    >6.8 78.531000\n",
      "204                 Uruguay   >7006    >6.8 77.005000\n",
      "205              Uzbekistan  <=7006   <=6.8 68.287000\n",
      "206                 Vanuatu  <=7006   <=6.8 71.017000\n",
      "207               Venezuela  <=7006    >6.8 74.402000\n",
      "208                 Vietnam  <=7006   <=6.8 75.181000\n",
      "210             Yemen, Rep.  <=7006   <=6.8 65.493000\n",
      "211                  Zambia  <=7006   <=6.8 49.025000\n",
      "212                Zimbabwe  <=7006   <=6.8 51.384000\n",
      "\n",
      "[171 rows x 4 columns]\n"
     ]
    }
   ],
   "source": [
    "# Create categorical variable income (Two levels based on mean)\n",
    "\n",
    "min_i = data1.income.min()\n",
    "max_i = data1.income.max()\n",
    "\n",
    "data2['income'] = pd.cut(data1.income, [np.floor(min_i),means['income'],np.ceil(max_i)], \n",
    "                       labels=['<=7006', '>7006'])\n",
    "\n",
    "data2[\"income\"] = data2[\"income\"].astype('category')"
   ]
  },
  {
   "cell_type": "code",
   "execution_count": null,
   "metadata": {
    "collapsed": true
   },
   "outputs": [],
   "source": []
  }
 ],
 "metadata": {
  "anaconda-cloud": {
   "attach-environment": true,
   "environment": "Root",
   "summary": "Data Analysis Tools - Week3 | Pearson Correlation | Sidon | 2016",
   "url": "https://anaconda.org/sidon/submitw4"
  },
  "kernelspec": {
   "display_name": "Python [Root]",
   "language": "python",
   "name": "Python [Root]"
  },
  "language_info": {
   "codemirror_mode": {
    "name": "ipython",
    "version": 3
   },
   "file_extension": ".py",
   "mimetype": "text/x-python",
   "name": "python",
   "nbconvert_exporter": "python",
   "pygments_lexer": "ipython3",
   "version": "3.5.1"
  }
 },
 "nbformat": 4,
 "nbformat_minor": 0
}
