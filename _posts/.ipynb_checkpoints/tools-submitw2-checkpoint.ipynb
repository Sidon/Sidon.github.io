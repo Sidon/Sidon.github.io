{
 "cells": [
  {
   "cell_type": "code",
   "execution_count": 273,
   "metadata": {
    "collapsed": true
   },
   "outputs": [],
   "source": [
    "# -*- coding: utf-8 -*-\n",
    "\"\"\"\n",
    "Created on Sun august 13 12:35:39 2016\n",
    "@author: Sidon\n",
    "\"\"\"\n",
    "%matplotlib inline\n",
    "import pandas as pd\n",
    "import numpy as np\n",
    "from collections import OrderedDict\n",
    "from tabulate import tabulate, tabulate_formats\n",
    "import seaborn\n",
    "import matplotlib.pyplot as plt\n",
    "import scipy.stats\n",
    "\n",
    "# bug fix for display formats to avoid run time errors\n",
    "pd.set_option('display.float_format', lambda x:'%f'%x)\n",
    "\n",
    "# Load from CSV\n",
    "data1 = pd.read_csv('gapminder.csv', skip_blank_lines=True,\n",
    "                    usecols=['country','alcconsumption', 'lifeexpectancy'])\n",
    " \n",
    "# Rename columns for clarity                                    \n",
    "data1.columns = ['country','alcohol','life']\n",
    "\n",
    "# Variables Descriptions\n",
    "ALCOHOL = \"2008 alcohol consumption per adult (liters, age 15+)\"\n",
    "LIFE = \"2011 life expectancy at birth (years)\"\n",
    "\n",
    "# converting to numeric values and parsing (numeric invalids=NaN)\n",
    "for dt in ('alcohol','life') :\n",
    "   data1[dt] = pd.to_numeric(data1[dt], 'errors=coerce') \n",
    "\n",
    "# Remove rows with nan values\n",
    "data1 = data1.dropna(axis=0, how='any')\n",
    "\n",
    "# Copy dataframe for univariate categorical variables\n",
    "data2 = data1.copy()"
   ]
  },
  {
   "cell_type": "markdown",
   "metadata": {},
   "source": [
    "### hypothesis\n",
    "Test the hypothesis about alcohol consumption and life expectancy Specifically, is how quantity litters alcohol consumption per year in a country is related a life expectancy, or in hypothesis testing terms, is the quantity of alcohol consumption and life expectancy is independent or dependent? For this analysis, I'm going to use a categorical explanatory variable with five levels, with the following categorical values: Alcohol consumption (per year, in liters) from 0 to 5, from 5 to 10, from 10 to 15, from 15 to 20 and from 20 to 25\n",
    "\n",
    "My response variable is categorical with 2 levels. That is, life expectancy greater than or less than the mean of all countries in gapmind data set."
   ]
  },
  {
   "cell_type": "code",
   "execution_count": 274,
   "metadata": {
    "collapsed": false
   },
   "outputs": [],
   "source": [
    "''' Categoriacal explanatory variable with five levels '''\n",
    "alcohol_map = {1: '>=0 <5', 2: '>=5 <10', 3: '>=10 <15', 4: '>=15 <20', 5: '>=20 <25'}\n",
    "data2['alcohol'] = pd.cut(data1.alcohol,[0,5,10,15,20,25], \n",
    "                          labels=[i for i in alcohol_map.values()])\n",
    "data2[\"alcohol\"] = data2[\"alcohol\"].astype('category')"
   ]
  },
  {
   "cell_type": "code",
   "execution_count": 275,
   "metadata": {
    "collapsed": false
   },
   "outputs": [
    {
     "name": "stdout",
     "output_type": "stream",
     "text": [
      "╒═══════╤═════════╤═══════╕\n",
      "│   Min │    Mean │   Max │\n",
      "╞═══════╪═════════╪═══════╡\n",
      "│    47 │ 69.1437 │    84 │\n",
      "╘═══════╧═════════╧═══════╛\n"
     ]
    }
   ],
   "source": [
    "# Mean, Min and Max of life expectancy\n",
    "meal = data2.life.mean()\n",
    "minl = data2.life.min() \n",
    "maxl = data2.life.max()\n",
    "print (tabulate([[np.floor(minl), meal, np.ceil(maxl)]], \n",
    "                tablefmt=\"fancy_grid\", headers=['Min', 'Mean', 'Max']))\n"
   ]
  },
  {
   "cell_type": "code",
   "execution_count": 276,
   "metadata": {
    "collapsed": false
   },
   "outputs": [],
   "source": [
    "# Create categorical response variable life (Two levels based on mean)\n",
    "life_map = {1: '<=69', 2: '>69'}\n",
    "data2['life'] = pd.cut(data1.life,[np.floor(minl),meal,np.ceil(maxl)], labels=[i for i in life_map.values()])\n",
    "data2[\"life\"] = data2[\"life\"].astype('category')"
   ]
  },
  {
   "cell_type": "code",
   "execution_count": 277,
   "metadata": {
    "collapsed": false,
    "scrolled": true
   },
   "outputs": [
    {
     "name": "stdout",
     "output_type": "stream",
     "text": [
      "╒═══════════════╤══════════╤═══════════╤════════════╤════════════╤════════════╕\n",
      "│ life/alcool   │   >=0 <5 │   >=5 <10 │   >=10 <15 │   >=15 <20 │   >=20 <25 │\n",
      "╞═══════════════╪══════════╪═══════════╪════════════╪════════════╪════════════╡\n",
      "│ <=69          │       44 │        20 │          4 │          3 │          0 │\n",
      "├───────────────┼──────────┼───────────┼────────────┼────────────┼────────────┤\n",
      "│ >69           │       33 │        37 │         27 │          7 │          1 │\n",
      "╘═══════════════╧══════════╧═══════════╧════════════╧════════════╧════════════╛\n"
     ]
    }
   ],
   "source": [
    "# contingency table of observed counts\n",
    "ct1=pd.crosstab(data2['life'], data2['alcohol'])\n",
    "headers_alcohol = [i for i in ct1.keys()]\n",
    "headers_alcohol.insert(0,'life/alcool')\n",
    "print (tabulate(ct1,tablefmt=\"fancy_grid\",headers=headers_alcohol)) "
   ]
  },
  {
   "cell_type": "markdown",
   "metadata": {},
   "source": [
    "Examining these column percents for those with life expectancy \n",
    "(greater or less than mean) we see that as alcohol consumption (from 5) \n",
    "until 15 liters per year increase, the life expectancy also increase."
   ]
  },
  {
   "cell_type": "code",
   "execution_count": 278,
   "metadata": {
    "collapsed": false
   },
   "outputs": [
    {
     "name": "stdout",
     "output_type": "stream",
     "text": [
      "╒════════════════╤══════════╤═══════════╤════════════╤════════════╤════════════╕\n",
      "│ Life/Alcohol   │   >=0 <5 │   >=5 <10 │   >=10 <15 │   >=15 <20 │   >=20 <25 │\n",
      "╞════════════════╪══════════╪═══════════╪════════════╪════════════╪════════════╡\n",
      "│ <=69           │    0.571 │     0.351 │      0.129 │      0.300 │      0.000 │\n",
      "├────────────────┼──────────┼───────────┼────────────┼────────────┼────────────┤\n",
      "│ >69            │    0.429 │     0.649 │      0.871 │      0.700 │      1.000 │\n",
      "╘════════════════╧══════════╧═══════════╧════════════╧════════════╧════════════╛\n"
     ]
    }
   ],
   "source": [
    "''' \n",
    "Generate the column percentages wich show the percent of individuals with level of\n",
    "live expectancy within each alcohol consumption level.\n",
    "'''\n",
    "colsum = ct1.sum(axis=0)\n",
    "colpct = ct1/colsum\n",
    "headers = [i for i in colpct.keys()]\n",
    "headers.insert(0,'Life/Alcohol')\n",
    "print (tabulate(colpct, tablefmt=\"fancy_grid\", headers=headers, floatfmt=\".3f\"))"
   ]
  },
  {
   "cell_type": "code",
   "execution_count": 279,
   "metadata": {
    "collapsed": false
   },
   "outputs": [
    {
     "name": "stdout",
     "output_type": "stream",
     "text": [
      "expected frequencies.\n",
      "╒════════╤════════╤════════╤═══════╤═══════╕\n",
      "│ 31.062 │ 22.994 │ 12.506 │ 4.034 │ 0.403 │\n",
      "├────────┼────────┼────────┼───────┼───────┤\n",
      "│ 45.938 │ 34.006 │ 18.494 │ 5.966 │ 0.597 │\n",
      "╘════════╧════════╧════════╧═══════╧═══════╛\n"
     ]
    }
   ],
   "source": [
    "'''\n",
    "compute the expected frequencies for the table based on the marginal sums\n",
    "under the assumption that the groups associated with each dimension are independent.\n",
    "'''\n",
    "print ('expected frequencies.')\n",
    "print  (tabulate(scipy.stats.contingency.expected_freq(ct1), \n",
    "                 tablefmt=\"fancy_grid\", floatfmt=\".3f\"))"
   ]
  },
  {
   "cell_type": "code",
   "execution_count": 280,
   "metadata": {
    "collapsed": false
   },
   "outputs": [
    {
     "data": {
      "text/plain": [
       "<matplotlib.text.Text at 0x7f530e1be198>"
      ]
     },
     "execution_count": 280,
     "metadata": {},
     "output_type": "execute_result"
    },
    {
     "data": {
      "image/png": "[encoded data removed]",
      "text/plain": [
       "<matplotlib.figure.Figure at 0x7f530e28f630>"
      ]
     },
     "metadata": {},
     "output_type": "display_data"
    }
   ],
   "source": [
    "'''\n",
    "Graph the percent of population with life expectancy greather \n",
    "than mean (69.14) within each consumption alcohol category\n",
    "'''\n",
    "\n",
    "# Create categorical response variable life (numeric) (Two levels based on mean)\n",
    "data2['life_n'] = data2.life\n",
    "life_map = {1: 0, 2: 1}\n",
    "data2['life_n'] = pd.cut(data1.life,[np.floor(minl),meal,np.ceil(maxl)], \n",
    "                         labels=[i for i in life_map.values()])\n",
    "#data2[\"life_n\"] = data2[\"life_n\"].astype('category')\n",
    "\n",
    "data2.life_n = pd.to_numeric(data2.life_n)\n",
    "\n",
    "seaborn.factorplot(x='alcohol', y='life_n', data=data2, kind='bar', ci=None)\n",
    "plt.xlabel('Alcohol consumption')\n",
    "plt.ylabel('Life Expectancy')\n"
   ]
  },
  {
   "cell_type": "markdown",
   "metadata": {},
   "source": [
    "The analysis of this graph without other analysis (like the frequencies), maybe\n",
    "can lead an error. It seems to show that the most country with the life expectancy greater than the mean are those that alcohol consumption is in the range between 20 and 25 liters. To help solve this issue, I used the countplot seaborn function, that is \"A special case for the bar plot is when you want to show the number of observations in each category rather than computing a statistic for a second variable. This is similar to a histogram over a categorical, rather than quantitative, variable\" [Se here](https://stanford.edu/~mwaskom/software/seaborn/tutorial/categorical.html).\n",
    "\n",
    "On this graph is easy to see that only 1 observation was realized in the column >=20 <=25."
   ]
  },
  {
   "cell_type": "code",
   "execution_count": 281,
   "metadata": {
    "collapsed": false
   },
   "outputs": [
    {
     "data": {
      "text/plain": [
       "<matplotlib.axes._subplots.AxesSubplot at 0x7f530e2b4c88>"
      ]
     },
     "execution_count": 281,
     "metadata": {},
     "output_type": "execute_result"
    },
    {
     "data": {
      "image/png": "[encoded data removed]",
      "text/plain": [
       "<matplotlib.figure.Figure at 0x7f530e2bb3c8>"
      ]
     },
     "metadata": {},
     "output_type": "display_data"
    }
   ],
   "source": [
    "seaborn.countplot(x='alcohol', data=data2, palette='Greens_d')"
   ]
  },
  {
   "cell_type": "code",
   "execution_count": 282,
   "metadata": {
    "collapsed": false
   },
   "outputs": [
    {
     "name": "stdout",
     "output_type": "stream",
     "text": [
      "╒══════════════╤═════════════╤══════╕\n",
      "│   chi-square │     p-value │   df │\n",
      "╞══════════════╪═════════════╪══════╡\n",
      "│      20.5031 │ 0.000397211 │    4 │\n",
      "╘══════════════╧═════════════╧══════╛\n",
      "\n",
      "The expected frequencies, based on the marginal sums of the table.\n",
      "-------  -------  -------  -------  --------\n",
      "31.0625  22.9943  12.5057  4.03409  0.403409\n",
      "45.9375  34.0057  18.4943  5.96591  0.596591\n",
      "-------  -------  -------  -------  --------\n"
     ]
    }
   ],
   "source": [
    "'''Chi-square calculations, wich include the chi-square value, the associated\n",
    "p-vale, and a table of expected counts that ares used in these calculations.'''\n",
    "\n",
    "cs1 = scipy.stats.chi2_contingency(ct1)\n",
    "results = OrderedDict()\n",
    "results['chi-square'] = cs1[0] \n",
    "results['p-value'] = cs1[1]\n",
    "results['df'] = cs1[2]\n",
    "print (tabulate([results.values()], tablefmt=\"fancy_grid\", \n",
    "                headers=[i for i in results.keys()]))\n",
    "\n",
    "print ('\\nThe expected frequencies, based on the marginal sums of the table.')\n",
    "print (tabulate(cs1[3]))"
   ]
  },
  {
   "cell_type": "markdown",
   "metadata": {},
   "source": [
    "### Post hoc Bonferroni Adjustment\n",
    "Looking at the significant P value, we will accept the alternate Hypothesis, where not all life expectancy rates are equal across alcohol consumption categories. If my explanatory variable had only two levels, I could interpret the two corresponding column percentages and be able to say wich group had a significantly higher rate of life expectancy. But my explanatory variable has five categories. So I know that not all are equal. But I don't know wich are different and wich are not."
   ]
  },
  {
   "cell_type": "code",
   "execution_count": 283,
   "metadata": {
    "collapsed": false,
    "scrolled": true
   },
   "outputs": [
    {
     "name": "stdout",
     "output_type": "stream",
     "text": [
      "╒══════════════════════════╤══════════════╤═════════════╤══════╤═════════════╕\n",
      "│ groups                   │   chi-square │     p-value │   df │ h0 reject   │\n",
      "╞══════════════════════════╪══════════════╪═════════════╪══════╪═════════════╡\n",
      "│ ('>=0 <5', '>=5 <10')    │   5.53236    │ 0.0186679   │    1 │ no          │\n",
      "├──────────────────────────┼──────────────┼─────────────┼──────┼─────────────┤\n",
      "│ ('>=0 <5', '>=10 <15')   │  15.773      │ 7.14144e-05 │    1 │ yes         │\n",
      "├──────────────────────────┼──────────────┼─────────────┼──────┼─────────────┤\n",
      "│ ('>=0 <5', '>=15 <20')   │   1.64614    │ 0.199485    │    1 │ no          │\n",
      "├──────────────────────────┼──────────────┼─────────────┼──────┼─────────────┤\n",
      "│ ('>=0 <5', '>=20 <25')   │   0.0169283  │ 0.89648     │    1 │ no          │\n",
      "├──────────────────────────┼──────────────┼─────────────┼──────┼─────────────┤\n",
      "│ ('>=5 <10', '>=10 <15')  │   3.92657    │ 0.0475288   │    1 │ no          │\n",
      "├──────────────────────────┼──────────────┼─────────────┼──────┼─────────────┤\n",
      "│ ('>=5 <10', '>=15 <20')  │   0.00235204 │ 0.96132     │    1 │ no          │\n",
      "├──────────────────────────┼──────────────┼─────────────┼──────┼─────────────┤\n",
      "│ ('>=5 <10', '>=20 <25')  │   0.108449   │ 0.741917    │    1 │ no          │\n",
      "├──────────────────────────┼──────────────┼─────────────┼──────┼─────────────┤\n",
      "│ ('>=10 <15', '>=15 <20') │   0.586965   │ 0.443595    │    1 │ no          │\n",
      "├──────────────────────────┼──────────────┼─────────────┼──────┼─────────────┤\n",
      "│ ('>=10 <15', '>=20 <25') │   1.32719    │ 0.249306    │    1 │ no          │\n",
      "├──────────────────────────┼──────────────┼─────────────┼──────┼─────────────┤\n",
      "│ ('>=15 <20', '>=20 <25') │   0.286458   │ 0.592499    │    1 │ no          │\n",
      "╘══════════════════════════╧══════════════╧═════════════╧══════╧═════════════╛\n"
     ]
    }
   ],
   "source": [
    "''' \n",
    "Post hoc Bonferroni Adjustment\n",
    "On Bonferroni Adjustment p value had adjusted dividing p 0.05 by \n",
    "the number of comparisions that we plan to make\n",
    "'''\n",
    "p_for_reject_h0 = .05/10\n",
    "\n",
    "pairs = []\n",
    "pairs.append((('>=0 <5','>=5 <10'),[0,5,5,10]))\n",
    "pairs.append((('>=0 <5','>=10 <15'),[0,5,10,15]))\n",
    "pairs.append((('>=0 <5','>=15 <20'),[0,5,15,20]))\n",
    "pairs.append((('>=0 <5','>=20 <25'),[0,5,20,25]))\n",
    "pairs.append((('>=5 <10','>=10 <15'),[5,10,10,15]))\n",
    "pairs.append((('>=5 <10','>=15 <20'),[5,10,15,20]))\n",
    "pairs.append((('>=5 <10','>=20 <25'),[5,10,20,25]))\n",
    "pairs.append((('>=10 <15','>=15 <20'),[10,15,15,20]))\n",
    "pairs.append((('>=10 <15','>=20 <25'),[10,15,20,25]))\n",
    "pairs.append((('>=15 <20','>=20 <25'),[15,20,20,25]))\n",
    "\n",
    "data_pairs = []\n",
    "results=[]\n",
    "for pair in pairs:\n",
    "    data_pair = data2[ (((data1.alcohol>pair[1][0]) & (data1.alcohol<=pair[1][1])) | \n",
    "                  ((data1.alcohol>pair[1][2]) & (data1.alcohol<=pair[1][3])))]\n",
    "        \n",
    "    ct0=pd.crosstab( data_pair['life'], data_pair['alcohol'])\n",
    "    ct1 = ct0[ [pair[0][0],pair[0][1]] ]\n",
    "    cs0 = scipy.stats.chi2_contingency(ct1)\n",
    "    #print (ct0)\n",
    "    \n",
    "    # chi-square, p=value and degree of freedom\n",
    "    reject = 'yes' if (cs0[1] < .05/10) else 'no' \n",
    "    results.append((pair[0],cs0[0],cs0[1],cs0[2], reject))\n",
    " \n",
    "print (tabulate(results, tablefmt=\"fancy_grid\", \n",
    "                headers=['groups', 'chi-square', 'p-value', 'df', 'h0 reject'] ))\n",
    "\n"
   ]
  },
  {
   "cell_type": "markdown",
   "metadata": {},
   "source": [
    "### Conclusion\n",
    "Although in the first chi-square calculus the p-value indicated that the null hypothesis could be rejected (p-value < .05), the table above, resulting of Post hoc Bonferroni Adjustment, where the chi<sup>2</sup> is calculated for all group each against each other (two by two), show us that the only comparison that we can reject the null hypothesis is >=0 < 5 and >=10 < 15 suggesting that if exists correlation between life expectancy and alcohol consumption is among the countries that have the levels of alcohol consumption between 0 TO 5 and 10 and 15 liters."
   ]
  },
  {
   "cell_type": "code",
   "execution_count": null,
   "metadata": {
    "collapsed": true
   },
   "outputs": [],
   "source": []
  }
 ],
 "metadata": {
  "anaconda-cloud": {
   "attach-environment": true,
   "environment": "Root",
   "summary": "Data Management and Visualization Submit 4 | Sidon | 2016",
   "url": "https://anaconda.org/sidon/submitw4"
  },
  "kernelspec": {
   "display_name": "Python [Root]",
   "language": "python",
   "name": "Python [Root]"
  },
  "language_info": {
   "codemirror_mode": {
    "name": "ipython",
    "version": 3
   },
   "file_extension": ".py",
   "mimetype": "text/x-python",
   "name": "python",
   "nbconvert_exporter": "python",
   "pygments_lexer": "ipython3",
   "version": "3.5.1"
  }
 },
 "nbformat": 4,
 "nbformat_minor": 0
}
