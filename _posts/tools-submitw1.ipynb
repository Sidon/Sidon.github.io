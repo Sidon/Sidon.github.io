{
 "cells": [
  {
   "cell_type": "code",
   "execution_count": 10,
   "metadata": {
    "collapsed": true
   },
   "outputs": [],
   "source": [
    "# -*- coding: utf-8 -*-\n",
    "\"\"\"\n",
    "Created on Sun august 13 12:35:39 2016\n",
    "@author: Sidon\n",
    "\"\"\"\n",
    "%matplotlib inline\n",
    "import pandas as pd\n",
    "import numpy as np\n",
    "from collections import OrderedDict\n",
    "from tabulate import tabulate, tabulate_formats\n",
    "import seaborn\n",
    "import matplotlib.pyplot as plt\n",
    "import statsmodels.formula.api as smf\n",
    "import statsmodels.stats.multicomp as multi \n",
    "\n",
    "# bug fix for display formats to avoid run time errors\n",
    "pd.set_option('display.float_format', lambda x:'%f'%x)\n",
    "\n",
    "# Load from CSV\n",
    "data1 = pd.read_csv('gapminder.csv', skip_blank_lines=True,\n",
    "                    usecols=['country','alcconsumption', 'lifeexpectancy'])\n",
    " \n",
    "# Rename columns for clarity                                    \n",
    "data1.columns = ['country','alcohol','life']\n",
    "\n",
    "# Variables Descriptions\n",
    "ALCOHOL = \"2008 alcohol consumption per adult (liters, age 15+)\"\n",
    "LIFE = \"2011 life expectancy at birth (years)\"\n",
    "\n",
    "# converting to numeric values and parsing (numeric invalids=NaN)\n",
    "for dt in ('alcohol','life') :\n",
    "   data1[dt] = pd.to_numeric(data1[dt], 'errors=coerce') \n",
    "\n",
    "# Remove rows with nan values\n",
    "data1 = data1.dropna(axis=0, how='any')\n",
    "\n",
    "# Copy dataframe for univariate categorical variables\n",
    "data2 = data1.copy()"
   ]
  },
  {
   "cell_type": "code",
   "execution_count": 11,
   "metadata": {
    "collapsed": false
   },
   "outputs": [],
   "source": [
    "# create categorical variable for life expctancy divided in five ranges \n",
    "\n",
    "alcohol_map = {1: '>=0 <5', 2: '>=5 <10', 3: '>=10 <15', 4: '>=15 <20', 5: '>=20 <25'}\n",
    "data2['alcohol'] = pd.cut(data1.alcohol,[0,5,10,15,20,25], labels=['1','2','3','4','5'])\n",
    "\n",
    "data2[\"alcohol\"] = data2[\"alcohol\"].astype('category')\n",
    "data2[\"alcohol\"] = data2[\"alcohol\"].cat.rename_categories([i for i in alcohol_map.values()])\n"
   ]
  },
  {
   "cell_type": "code",
   "execution_count": 12,
   "metadata": {
    "collapsed": false,
    "scrolled": true
   },
   "outputs": [
    {
     "name": "stdout",
     "output_type": "stream",
     "text": [
      "                            OLS Regression Results                            \n",
      "==============================================================================\n",
      "Dep. Variable:                   life   R-squared:                       0.125\n",
      "Model:                            OLS   Adj. R-squared:                  0.105\n",
      "Method:                 Least Squares   F-statistic:                     6.112\n",
      "Date:                Sat, 13 Aug 2016   Prob (F-statistic):           0.000128\n",
      "Time:                        19:01:52   Log-Likelihood:                -639.68\n",
      "No. Observations:                 176   AIC:                             1289.\n",
      "Df Residuals:                     171   BIC:                             1305.\n",
      "Df Model:                           4                                         \n",
      "Covariance Type:            nonrobust                                         \n",
      "==========================================================================================\n",
      "                             coef    std err          t      P>|t|      [95.0% Conf. Int.]\n",
      "------------------------------------------------------------------------------------------\n",
      "Intercept                 65.9337      1.060     62.212      0.000        63.842    68.026\n",
      "C(alcohol)[T.>=5 <10]      3.6651      1.625      2.255      0.025         0.457     6.873\n",
      "C(alcohol)[T.>=10 <15]     9.5628      1.978      4.834      0.000         5.658    13.468\n",
      "C(alcohol)[T.>=15 <20]     5.6221      3.126      1.798      0.074        -0.548    11.793\n",
      "C(alcohol)[T.>=20 <25]     3.3833      9.360      0.361      0.718       -15.093    21.860\n",
      "==============================================================================\n",
      "Omnibus:                       16.670   Durbin-Watson:                   1.863\n",
      "Prob(Omnibus):                  0.000   Jarque-Bera (JB):               19.421\n",
      "Skew:                          -0.804   Prob(JB):                     6.06e-05\n",
      "Kurtosis:                       2.746   Cond. No.                         14.4\n",
      "==============================================================================\n",
      "\n",
      "Warnings:\n",
      "[1] Standard Errors assume that the covariance matrix of the errors is correctly specified.\n"
     ]
    }
   ],
   "source": [
    "# using ols function for calculating the F-statistic and associated p value\n",
    "model1 = smf.ols(formula='life ~ C(alcohol)', data=data2)\n",
    "results1 = model1.fit()\n",
    "print (results1.summary())"
   ]
  },
  {
   "cell_type": "code",
   "execution_count": 13,
   "metadata": {
    "collapsed": false
   },
   "outputs": [
    {
     "name": "stdout",
     "output_type": "stream",
     "text": [
      "Multiple Comparison of Means - Tukey HSD,FWER=0.05\n",
      "==================================================\n",
      " group1   group2  meandiff  lower    upper  reject\n",
      "--------------------------------------------------\n",
      " >=0 <5  >=10 <15  9.5628   4.1087   15.017  True \n",
      " >=0 <5  >=15 <20  5.6221  -2.9969  14.2411 False \n",
      " >=0 <5  >=20 <25  3.3833  -22.4241 29.1908 False \n",
      " >=0 <5  >=5 <10   3.6651  -0.8153   8.1454 False \n",
      ">=10 <15 >=15 <20 -3.9407  -13.2658  5.3844 False \n",
      ">=10 <15 >=20 <25 -6.1795  -32.2313 19.8723 False \n",
      ">=10 <15 >=5 <10  -5.8978   -11.62  -0.1755  True \n",
      ">=15 <20 >=20 <25 -2.2388  -29.1318 24.6542 False \n",
      ">=15 <20 >=5 <10  -1.9571  -10.7482  6.834  False \n",
      ">=20 <25 >=5 <10   0.2817  -25.5837 26.1472 False \n",
      "--------------------------------------------------\n"
     ]
    }
   ],
   "source": [
    "mc1 = multi.MultiComparison(data2['life'], data2['alcohol'])\n",
    "res1 = mc1.tukeyhsd()\n",
    "print(res1.summary())"
   ]
  }
 ],
 "metadata": {
  "anaconda-cloud": {
   "attach-environment": true,
   "environment": "Root",
   "summary": "Data Management and Visualization Submit 4 | Sidon | 2016",
   "url": "https://anaconda.org/sidon/submitw4"
  },
  "kernelspec": {
   "display_name": "Python [Root]",
   "language": "python",
   "name": "Python [Root]"
  },
  "language_info": {
   "codemirror_mode": {
    "name": "ipython",
    "version": 3
   },
   "file_extension": ".py",
   "mimetype": "text/x-python",
   "name": "python",
   "nbconvert_exporter": "python",
   "pygments_lexer": "ipython3",
   "version": "3.5.1"
  }
 },
 "nbformat": 4,
 "nbformat_minor": 0
}
