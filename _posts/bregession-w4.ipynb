{
 "cells": [
  {
   "cell_type": "code",
   "execution_count": 1,
   "metadata": {
    "collapsed": true
   },
   "outputs": [],
   "source": [
    "# -*- coding: utf-8 -*-\n",
    "\"\"\"\n",
    "Created on Sun august 21 14:35:15 2016\n",
    "@author: Sidon\n",
    "\"\"\"\n",
    "%matplotlib inline\n",
    "import pandas as pd\n",
    "import numpy as np\n",
    "from collections import OrderedDict\n",
    "from tabulate import tabulate, tabulate_formats\n",
    "import seaborn as sn\n",
    "import matplotlib.pyplot as plt\n",
    "import scipy.stats\n",
    "import statsmodels.formula.api as smf\n",
    "import statsmodels.stats.multicomp as multi \n",
    "import statsmodels.api as sm\n",
    "\n",
    "# Variables Descriptions\n",
    "INCOME = \"2010 Gross Domestic Product per capita in constant 2000 US$\"\n",
    "ALCOHOL = \"2008 alcohol consumption (liters, age 15+)\"\n",
    "LIFE = \"2011 life expectancy at birth (years)\"\n",
    "\n",
    "# bug fix for display formats to avoid run time errors\n",
    "pd.set_option('display.float_format', lambda x:'%f'%x)\n",
    "\n",
    "# Load from CSV\n",
    "data0 = pd.read_csv('~/dev/coursera/gapminder.csv', skip_blank_lines=True,\n",
    "                     usecols=['country','incomeperperson',\n",
    "                              'alcconsumption','lifeexpectancy', 'urbanrate'])"
   ]
  },
  {
   "cell_type": "code",
   "execution_count": 2,
   "metadata": {
    "collapsed": true
   },
   "outputs": [],
   "source": [
    "def to_num(list, data):\n",
    "    for dt in list :\n",
    "        data[dt] = pd.to_numeric(data[dt], 'errors=coerce')\n",
    "    return data    \n",
    "        "
   ]
  },
  {
   "cell_type": "code",
   "execution_count": 3,
   "metadata": {
    "collapsed": false
   },
   "outputs": [],
   "source": [
    "# Rename columns for clarity                                    \n",
    "data0.columns = ['country','income','alcohol','life','urban_rate']\n",
    "\n",
    "# converting to numeric values and parsing (numeric invalids=NaN)\n",
    "data0 = to_num( ('income','alcohol','life', 'urban_rate'), data0 )\n",
    "\n",
    "# Remove rows with nan values\n",
    "data0 = data0.dropna(axis=0, how='any')\n",
    "\n",
    "# Copy dataframe for preserv original\n",
    "data1 = data0.copy()"
   ]
  },
  {
   "cell_type": "code",
   "execution_count": 4,
   "metadata": {
    "collapsed": false
   },
   "outputs": [
    {
     "name": "stdout",
     "output_type": "stream",
     "text": [
      "╒═══════╤═════════╤═══════╕\n",
      "│   Min │    Mean │   Max │\n",
      "╞═══════╪═════════╪═══════╡\n",
      "│    47 │ 69.3857 │    84 │\n",
      "╘═══════╧═════════╧═══════╛\n"
     ]
    }
   ],
   "source": [
    "# Mean, Min and Max of life expectancy\n",
    "meal = data1.life.mean()\n",
    "minl = data1.life.min() \n",
    "maxl = data1.life.max()\n",
    "print (tabulate([[np.floor(minl), meal, np.ceil(maxl)]], \n",
    "                tablefmt=\"fancy_grid\", headers=['Min', 'Mean', 'Max']))"
   ]
  },
  {
   "cell_type": "code",
   "execution_count": 5,
   "metadata": {
    "collapsed": false
   },
   "outputs": [],
   "source": [
    "# Create categorical response variable life (Two levels based on mean)\n",
    "data1['life'] = pd.cut(data0.life,[np.floor(minl),meal,np.ceil(maxl)], labels=[0,1])\n",
    "data1['life'] = data1['life'].astype('category')"
   ]
  },
  {
   "cell_type": "code",
   "execution_count": 6,
   "metadata": {
    "collapsed": false
   },
   "outputs": [
    {
     "name": "stdout",
     "output_type": "stream",
     "text": [
      "╒═══════╤═════════╤═══════╕\n",
      "│   Min │    Mean │   Max │\n",
      "╞═══════╪═════════╪═══════╡\n",
      "│     0 │ 6.78409 │    24 │\n",
      "╘═══════╧═════════╧═══════╛\n"
     ]
    }
   ],
   "source": [
    "# Mean, Min and Max of alcohol\n",
    "meaa = data1.alcohol.mean()\n",
    "mina = data1.alcohol.min() \n",
    "maxa = data1.alcohol.max()\n",
    "print (tabulate([[np.floor(mina), meaa, np.ceil(maxa)]], \n",
    "                tablefmt=\"fancy_grid\", headers=['Min', 'Mean', 'Max']))"
   ]
  },
  {
   "cell_type": "code",
   "execution_count": 7,
   "metadata": {
    "collapsed": false
   },
   "outputs": [],
   "source": [
    "# Categoriacal explanatory variable (Two levels based on mean) \n",
    "data1['alcohol'] = pd.cut(data0.alcohol,[np.floor(mina),meaa,np.ceil(maxa)], \n",
    "                          labels=[0,1])\n",
    "data1[\"alcohol\"] = data1[\"alcohol\"].astype('category')\n"
   ]
  },
  {
   "cell_type": "code",
   "execution_count": 8,
   "metadata": {
    "collapsed": true
   },
   "outputs": [],
   "source": [
    "data1 = to_num( ('income','alcohol','life', 'urban_rate'), data1 )"
   ]
  },
  {
   "cell_type": "code",
   "execution_count": 9,
   "metadata": {
    "collapsed": false,
    "scrolled": true
   },
   "outputs": [
    {
     "name": "stdout",
     "output_type": "stream",
     "text": [
      "Optimization terminated successfully.\n",
      "         Current function value: 0.620828\n",
      "         Iterations 5\n",
      "                           Logit Regression Results                           \n",
      "==============================================================================\n",
      "Dep. Variable:                   life   No. Observations:                  171\n",
      "Model:                          Logit   Df Residuals:                      169\n",
      "Method:                           MLE   Df Model:                            1\n",
      "Date:                Sat, 08 Oct 2016   Pseudo R-squ.:                 0.08246\n",
      "Time:                        14:19:59   Log-Likelihood:                -106.16\n",
      "converged:                       True   LL-Null:                       -115.70\n",
      "                                        LLR p-value:                 1.252e-05\n",
      "==============================================================================\n",
      "                 coef    std err          z      P>|z|      [95.0% Conf. Int.]\n",
      "------------------------------------------------------------------------------\n",
      "Intercept     -0.2091      0.205     -1.019      0.308        -0.611     0.193\n",
      "alcohol        1.4363      0.344      4.178      0.000         0.763     2.110\n",
      "==============================================================================\n"
     ]
    }
   ],
   "source": [
    "lreg1 = smf.logit(formula = 'life ~ alcohol',data=data1).fit()\n",
    "print (lreg1.summary())"
   ]
  },
  {
   "cell_type": "code",
   "execution_count": 10,
   "metadata": {
    "collapsed": false
   },
   "outputs": [
    {
     "name": "stdout",
     "output_type": "stream",
     "text": [
      "Odds Ratios\n",
      "Intercept   0.811321\n",
      "alcohol     4.205198\n",
      "dtype: float64\n"
     ]
    }
   ],
   "source": [
    "print (\"Odds Ratios\")\n",
    "print (np.exp(lreg1.params))"
   ]
  },
  {
   "cell_type": "code",
   "execution_count": 11,
   "metadata": {
    "collapsed": false
   },
   "outputs": [
    {
     "name": "stdout",
     "output_type": "stream",
     "text": [
      "           Lower CI  Upper CI       OR\n",
      "Intercept  0.542615  1.213092 0.811321\n",
      "alcohol    2.143658  8.249307 4.205198\n"
     ]
    }
   ],
   "source": [
    "params = lreg1.params\n",
    "conf = lreg1.conf_int()\n",
    "conf['OR'] = params\n",
    "conf.columns = ['Lower CI', 'Upper CI', 'OR']\n",
    "\n",
    "print (np.exp(conf))"
   ]
  },
  {
   "cell_type": "code",
   "execution_count": 12,
   "metadata": {
    "collapsed": false
   },
   "outputs": [
    {
     "name": "stdout",
     "output_type": "stream",
     "text": [
      "╒═══════╤═════════╤═══════╕\n",
      "│   Min │    Mean │   Max │\n",
      "╞═══════╪═════════╪═══════╡\n",
      "│   103 │ 7006.36 │ 52302 │\n",
      "╘═══════╧═════════╧═══════╛\n"
     ]
    }
   ],
   "source": [
    "# Mean, Min and Max of income\n",
    "meai = data1.income.mean()\n",
    "mini = data1.income.min() \n",
    "maxi = data1.income.max()\n",
    "print (tabulate([[np.floor(mini), meai, np.ceil(maxi)]], \n",
    "                tablefmt=\"fancy_grid\", headers=['Min', 'Mean', 'Max']))"
   ]
  },
  {
   "cell_type": "code",
   "execution_count": 13,
   "metadata": {
    "collapsed": false
   },
   "outputs": [
    {
     "name": "stdout",
     "output_type": "stream",
     "text": [
      "Optimization terminated successfully.\n",
      "         Current function value: 0.344413\n",
      "         Iterations 10\n",
      "                           Logit Regression Results                           \n",
      "==============================================================================\n",
      "Dep. Variable:                   life   No. Observations:                  171\n",
      "Model:                          Logit   Df Residuals:                      168\n",
      "Method:                           MLE   Df Model:                            2\n",
      "Date:                Sat, 08 Oct 2016   Pseudo R-squ.:                  0.4910\n",
      "Time:                        14:19:59   Log-Likelihood:                -58.895\n",
      "converged:                       True   LL-Null:                       -115.70\n",
      "                                        LLR p-value:                 2.131e-25\n",
      "==============================================================================\n",
      "                 coef    std err          z      P>|z|      [95.0% Conf. Int.]\n",
      "------------------------------------------------------------------------------\n",
      "Intercept     -2.1615      0.399     -5.421      0.000        -2.943    -1.380\n",
      "alcohol        0.1801      0.501      0.360      0.719        -0.802     1.162\n",
      "income         0.0010      0.000      5.150      0.000         0.001     0.001\n",
      "==============================================================================\n",
      "\n",
      "Possibly complete quasi-separation: A fraction 0.21 of observations can be\n",
      "perfectly predicted. This might indicate that there is complete\n",
      "quasi-separation. In this case some parameters will not be identified.\n"
     ]
    }
   ],
   "source": [
    "lreg2 = smf.logit(formula = 'life ~ alcohol + income',data=data1).fit()\n",
    "print (lreg2.summary())"
   ]
  },
  {
   "cell_type": "code",
   "execution_count": 14,
   "metadata": {
    "collapsed": false
   },
   "outputs": [
    {
     "name": "stdout",
     "output_type": "stream",
     "text": [
      "           Lower CI  Upper CI       OR\n",
      "Intercept  0.052706  0.251564 0.115147\n",
      "alcohol    0.448563  3.196217 1.197373\n",
      "income     1.000648  1.001444 1.001046\n"
     ]
    }
   ],
   "source": [
    "params = lreg2.params\n",
    "conf = lreg2.conf_int()\n",
    "conf['OR'] = params\n",
    "conf.columns = ['Lower CI', 'Upper CI', 'OR']\n",
    "\n",
    "print (np.exp(conf))"
   ]
  }
 ],
 "metadata": {
  "anaconda-cloud": {
   "attach-environment": true,
   "environment": "Root",
   "summary": "Data Analysis Tools - Week3 | Pearson Correlation | Sidon | 2016",
   "url": "https://anaconda.org/sidon/submitw4"
  },
  "kernelspec": {
   "display_name": "Python [Root]",
   "language": "python",
   "name": "Python [Root]"
  },
  "language_info": {
   "codemirror_mode": {
    "name": "ipython",
    "version": 3
   },
   "file_extension": ".py",
   "mimetype": "text/x-python",
   "name": "python",
   "nbconvert_exporter": "python",
   "pygments_lexer": "ipython3",
   "version": "3.5.2"
  }
 },
 "nbformat": 4,
 "nbformat_minor": 0
}
