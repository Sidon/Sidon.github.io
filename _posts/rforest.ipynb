{
 "cells": [
  {
   "cell_type": "code",
   "execution_count": 1,
   "metadata": {
    "collapsed": false
   },
   "outputs": [],
   "source": [
    "# -*- coding: utf-8 -*-\n",
    "\"\"\"\n",
    "Created on Thu october 25 14:35:15 2016\n",
    "@author: Sidon\n",
    "\"\"\"\n",
    "%matplotlib inline\n",
    "import pandas as pd\n",
    "import numpy as np\n",
    "from collections import OrderedDict\n",
    "from tabulate import tabulate, tabulate_formats\n",
    "import matplotlib.pyplot as plt\n",
    "from sklearn.cross_validation import train_test_split\n",
    "from sklearn.metrics import classification_report\n",
    "import sklearn.metrics\n",
    "from sklearn.tree import DecisionTreeClassifier\n",
    "from sklearn import tree\n",
    "from io import StringIO\n",
    "from IPython.display import Image\n",
    "import pydotplus\n",
    "import itertools\n",
    "\n",
    "from sklearn.ensemble import RandomForestClassifier\n",
    "from sklearn import datasets\n",
    "from sklearn.ensemble import ExtraTreesClassifier\n",
    "\n",
    "\n",
    "# Variables Descriptions\n",
    "INCOME = \"2010 Gross Domestic Product per capita in constant 2000 US$\"\n",
    "ALCOHOL = \"2008 alcohol consumption (liters, age 15+)\"\n",
    "LIFE = \"2011 life expectancy at birth (years)\"\n",
    "\n",
    "# os.chdir('/home/sidon/dev/coursera')\n",
    "out = StringIO()\n",
    "\n",
    "# bug fix for display formats to avoid run time errors\n",
    "pd.set_option('display.float_format', lambda x:'%f'%x)\n",
    "\n",
    "# Load from CSV\n",
    "data0 = pd.read_csv('~/dev/coursera/gapminder.csv', skip_blank_lines=True,\n",
    "                     usecols=['country','incomeperperson',\n",
    "                              'alcconsumption','lifeexpectancy'])\n"
   ]
  },
  {
   "cell_type": "code",
   "execution_count": 2,
   "metadata": {
    "collapsed": true
   },
   "outputs": [],
   "source": [
    "def to_num(list, data):\n",
    "    for dt in list :\n",
    "        data[dt] = pd.to_numeric(data[dt], 'errors=coerce')\n",
    "    return data    \n",
    "        "
   ]
  },
  {
   "cell_type": "code",
   "execution_count": null,
   "metadata": {
    "collapsed": true
   },
   "outputs": [],
   "source": []
  },
  {
   "cell_type": "code",
   "execution_count": 3,
   "metadata": {
    "collapsed": false
   },
   "outputs": [],
   "source": [
    "def plot_confusion_matrix(cm, classes,\n",
    "                          normalize=False,\n",
    "                          title='Confusion matrix',\n",
    "                          cmap=plt.cm.Blues, lbs=([' (TN)',' (FP)'],[' (FN)',' (TP)'])):\n",
    "    \"\"\"\n",
    "    This function prints and plots the confusion matrix.\n",
    "    Normalization can be applied by setting `normalize=True`.\n",
    "    \"\"\"\n",
    "    plt.imshow(cm, interpolation='nearest', cmap=cmap)\n",
    "    plt.title(title)\n",
    "    plt.colorbar()\n",
    "    tick_marks = np.arange(len(classes))\n",
    "    plt.xticks(tick_marks, classes, rotation=45)\n",
    "    plt.yticks(tick_marks, classes)\n",
    "\n",
    "    if normalize:\n",
    "        cm = cm.astype('float') / cm.sum(axis=1)[:, np.newaxis]\n",
    "        print(\"Normalized confusion matrix\")\n",
    "    else:\n",
    "        print('Confusion matrix, without normalization')\n",
    "\n",
    "    print(cm)\n",
    "\n",
    "    thresh = cm.max() / 2.\n",
    "    for i, j in itertools.product(range(cm.shape[0]), range(cm.shape[1])):\n",
    "        plt.text(j, i, str(cm[i, j])+lbs[i][j],\n",
    "                 horizontalalignment=\"center\",\n",
    "                 color=\"white\" if cm[i, j] > thresh else \"black\")\n",
    "\n",
    "    plt.tight_layout()\n",
    "    plt.ylabel('True')\n",
    "    plt.xlabel('Predicted')"
   ]
  },
  {
   "cell_type": "code",
   "execution_count": 4,
   "metadata": {
    "collapsed": false
   },
   "outputs": [],
   "source": [
    "# Rename columns for clarity                                    \n",
    "data0.columns = ['country','income','alcohol','life']\n",
    "\n",
    "# converting to numeric values and parsing (numeric invalids=NaN)\n",
    "data0 = to_num( ('income','alcohol','life'), data0 )\n",
    "\n",
    "# Remove rows with nan values\n",
    "data0 = data0.dropna(axis=0, how='any')\n",
    "\n",
    "# Copy dataframe for preserve original\n",
    "data1 = data0.copy()"
   ]
  },
  {
   "cell_type": "code",
   "execution_count": 5,
   "metadata": {
    "collapsed": false
   },
   "outputs": [],
   "source": [
    "# Mean, Min and Max of life expectancy\n",
    "meal = data1.life.mean()\n",
    "minl = data1.life.min() \n",
    "maxl = data1.life.max()\n",
    "\n",
    "# Create categorical response variable life (Two levels based on mean)\n",
    "data1['life'] = pd.cut(data0.life,[np.floor(minl),meal,np.ceil(maxl)], labels=['0','1'])\n",
    "data1['life'] = data1['life'].astype('category')"
   ]
  },
  {
   "cell_type": "code",
   "execution_count": 6,
   "metadata": {
    "collapsed": false
   },
   "outputs": [],
   "source": [
    "# Mean, Min and Max of alcohol\n",
    "meaa = data1.alcohol.mean()\n",
    "mina = data1.alcohol.min() \n",
    "maxa = data1.alcohol.max()\n",
    "\n",
    "# Categoriacal explanatory variable (Two levels based on mean) \n",
    "data1['alcohol'] = pd.cut(data0.alcohol,[np.floor(mina),meaa,np.ceil(maxa)], \n",
    "                          labels=[0,1])\n",
    "\n",
    "cat1 = pd.qcut(data0.alcohol,5).cat.categories\n",
    "data1[\"alcohol\"] = pd.qcut(data0.alcohol,5,labels=['0','1','2','3','4'])\n",
    "data1[\"alcohol\"] = data1[\"alcohol\"].astype('category')"
   ]
  },
  {
   "cell_type": "code",
   "execution_count": 7,
   "metadata": {
    "collapsed": true
   },
   "outputs": [],
   "source": [
    "# Mean, Min and Max of income\n",
    "meai = data1.income.mean()\n",
    "mini = data1.income.min() \n",
    "maxi = data1.income.max()\n",
    "\n",
    "# Categoriacal explanatory variable (Two levels based on mean) \n",
    "data1['income'] = pd.cut(data0.income,[np.floor(mini),meai,np.ceil(maxi)], \n",
    "                          labels=[0,1])\n",
    "data1[\"income\"] = data1[\"income\"].astype('category')"
   ]
  },
  {
   "cell_type": "code",
   "execution_count": 8,
   "metadata": {
    "collapsed": false
   },
   "outputs": [],
   "source": [
    "data1 = to_num( ('alcohol', 'income'), data1 )"
   ]
  },
  {
   "cell_type": "code",
   "execution_count": 9,
   "metadata": {
    "collapsed": false
   },
   "outputs": [
    {
     "name": "stdout",
     "output_type": "stream",
     "text": [
      "[ 0.40728949  0.59271051]\n"
     ]
    }
   ],
   "source": [
    "predictors = data1[['alcohol', 'income']]\n",
    "targets = data1.life\n",
    "pred_train, pred_test, tar_train, tar_test  =   train_test_split(predictors, targets, test_size=.4)\n",
    "\n",
    "#Build model on training data\n",
    "clf=RandomForestClassifier(n_estimators=25)\n",
    "clf=clf.fit(pred_train,tar_train)\n",
    "\n",
    "predictions=clf.predict(pred_test)\n",
    "confusion_matrix =  sklearn.metrics.confusion_matrix(tar_test,predictions)\n",
    "accuracy = sklearn.metrics.accuracy_score(tar_test, predictions)\n",
    "\n",
    "# fit an Extra Trees model to the data\n",
    "model = ExtraTreesClassifier()\n",
    "model.fit(pred_train,tar_train)\n",
    "# display the relative importance of each attribute\n",
    "print(model.feature_importances_)"
   ]
  },
  {
   "cell_type": "code",
   "execution_count": 10,
   "metadata": {
    "collapsed": false
   },
   "outputs": [
    {
     "name": "stdout",
     "output_type": "stream",
     "text": [
      "Accuracy Score:  0.724637681159 \n",
      "\n"
     ]
    }
   ],
   "source": [
    "print ('Accuracy Score: ', accuracy,'\\n')"
   ]
  },
  {
   "cell_type": "code",
   "execution_count": 11,
   "metadata": {
    "collapsed": false
   },
   "outputs": [
    {
     "name": "stdout",
     "output_type": "stream",
     "text": [
      "Confusion matrix, without normalization\n",
      "[[18 10]\n",
      " [ 9 32]]\n"
     ]
    },
    {
     "data": {
      "image/png": "[encoded data removed]",
      "text/plain": [
       "<matplotlib.figure.Figure at 0x7f1b4df218d0>"
      ]
     },
     "metadata": {},
     "output_type": "display_data"
    }
   ],
   "source": [
    "plot_confusion_matrix(confusion_matrix,['0','1'])"
   ]
  },
  {
   "cell_type": "markdown",
   "metadata": {},
   "source": [
    "This graph represents the confusion matrix, that shows the correct and incorrect classifications of the decision tree, the labels means the life expectancy greater and less than 69 years, the horizontal labels are the predictions and the vertical are the reference (true).\n",
    "the main diagonal: 16 and 34 represent the number of true negative and true positive for life expectancy and the other diagonal (values 7 and 12) represents the numbers of false negative and false positive respectively."
   ]
  },
  {
   "cell_type": "markdown",
   "metadata": {},
   "source": [
    "The accuracy score is approximately 0.72, this suggests that the decision tree model has classified 72% of the sample as either countrie with life expectancy greater or less than the mean (69 years)."
   ]
  },
  {
   "cell_type": "code",
   "execution_count": 13,
   "metadata": {
    "collapsed": false
   },
   "outputs": [
    {
     "data": {
      "text/plain": [
       "[<matplotlib.lines.Line2D at 0x7f1b4b8db8d0>]"
      ]
     },
     "execution_count": 13,
     "metadata": {},
     "output_type": "execute_result"
    },
    {
     "data": {
      "image/png": "[encoded data removed]",
      "text/plain": [
       "<matplotlib.figure.Figure at 0x7f1b4b8db080>"
      ]
     },
     "metadata": {},
     "output_type": "display_data"
    }
   ],
   "source": [
    "\n",
    "\"\"\"\n",
    "Running a different number of trees and see the effect\n",
    " of that on the accuracy of the prediction\n",
    "\"\"\"\n",
    "\n",
    "trees=range(30)\n",
    "accuracy=np.zeros(30)\n",
    "\n",
    "for idx in range(len(trees)):\n",
    "   clf=RandomForestClassifier(n_estimators=idx + 1)\n",
    "   clf=clf.fit(pred_train,tar_train)\n",
    "   predictions=clf.predict(pred_test)\n",
    "   accuracy[idx]=sklearn.metrics.accuracy_score(tar_test, predictions)\n",
    "   \n",
    "plt.cla()\n",
    "plt.plot(trees, accuracy)\n"
   ]
  },
  {
   "cell_type": "code",
   "execution_count": 15,
   "metadata": {
    "collapsed": false
   },
   "outputs": [
    {
     "name": "stdout",
     "output_type": "stream",
     "text": [
      "Accuracy Score for Decision Tree:  0.710144927536 \n",
      "\n"
     ]
    }
   ],
   "source": [
    "#Build model on training data for decision tree\n",
    "clfdt = DecisionTreeClassifier()\n",
    "clfdt = clfdt.fit(pred_train,tar_train)\n",
    "from sklearn.tree import DecisionTreeClassifier\n",
    "\n",
    "preddt=clfdt.predict(pred_test)\n",
    "\n",
    "accuracy = sklearn.metrics.accuracy_score(tar_test, preddt)\n",
    "print ('Accuracy Score for Decision Tree: ', accuracy,'\\n')"
   ]
  },
  {
   "cell_type": "code",
   "execution_count": 16,
   "metadata": {
    "collapsed": false
   },
   "outputs": [
    {
     "name": "stdout",
     "output_type": "stream",
     "text": [
      "Accuracy Score for Random Forest:  0.724637681159 \n",
      "\n"
     ]
    }
   ],
   "source": [
    "accuracy = sklearn.metrics.accuracy_score(tar_test, predictions)\n",
    "print ('Accuracy Score for Random Forest: ', accuracy,'\\n')"
   ]
  }
 ],
 "metadata": {
  "anaconda-cloud": {
   "attach-environment": true,
   "environment": "Root",
   "summary": "Data Analysis Tools - Week3 | Pearson Correlation | Sidon | 2016",
   "url": "https://anaconda.org/sidon/submitw4"
  },
  "kernelspec": {
   "display_name": "Python [Root]",
   "language": "python",
   "name": "Python [Root]"
  },
  "language_info": {
   "codemirror_mode": {
    "name": "ipython",
    "version": 3
   },
   "file_extension": ".py",
   "mimetype": "text/x-python",
   "name": "python",
   "nbconvert_exporter": "python",
   "pygments_lexer": "ipython3",
   "version": "3.5.2"
  }
 },
 "nbformat": 4,
 "nbformat_minor": 0
}
