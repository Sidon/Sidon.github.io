{
 "cells": [
  {
   "cell_type": "code",
   "execution_count": 174,
   "metadata": {
    "collapsed": false
   },
   "outputs": [],
   "source": [
    "# -*- coding: utf-8 -*-\n",
    "\"\"\"\n",
    "Created on Sat november 05 13:18:15 2016\n",
    "@author: Sidon\n",
    "\"\"\"\n",
    "%matplotlib inline\n",
    "import pandas as pd\n",
    "import numpy as np\n",
    "from collections import OrderedDict\n",
    "from tabulate import tabulate, tabulate_formats\n",
    "import matplotlib.pyplot as plt\n",
    "from sklearn.cross_validation import train_test_split\n",
    "from sklearn import preprocessing\n",
    "from sklearn.cluster import KMeans\n",
    "from sklearn.decomposition import PCA\n",
    "import warnings\n",
    "\n",
    "warnings.filterwarnings('ignore')\n",
    "\n",
    "# bug fix for display formats to avoid run time errors\n",
    "pd.set_option('display.float_format', lambda x:'%f'%x)\n",
    "\n",
    "usecols = ['country','incomeperperson','alcconsumption','armedforcesrate','breastcancerper100th','co2emissions',\n",
    "           'femaleemployrate','internetuserate','lifeexpectancy','polityscore', 'relectricperperson',\n",
    "           'suicideper100th', 'employrate', 'urbanrate']\n",
    "\n",
    "\n",
    "# Load from CSV\n",
    "data0 = pd.read_csv('~/dev/coursera/gapminder.csv', skip_blank_lines=True,\n",
    "                     usecols=usecols)\n"
   ]
  },
  {
   "cell_type": "code",
   "execution_count": 175,
   "metadata": {
    "collapsed": true
   },
   "outputs": [],
   "source": [
    "def to_num(list, data):\n",
    "    for dt in list :\n",
    "        data[dt] = pd.to_numeric(data[dt], 'errors=coerce')\n",
    "    return data    \n",
    "        "
   ]
  },
  {
   "cell_type": "code",
   "execution_count": 176,
   "metadata": {
    "collapsed": false
   },
   "outputs": [],
   "source": [
    "\n",
    "def interpret_clusters(n, train):\n",
    "    \n",
    "    chars = ['o', 'v', '*', 'p', 'h']\n",
    "    colors = ['r', 'g', 'b','r','g']\n",
    "    model=KMeans(n_clusters=n)\n",
    "    model.fit(train)\n",
    "    #clusassign=model.predict(train)\n",
    "  \n",
    "    \n",
    "    # plot clusters\n",
    "    pca_2 = PCA(2)\n",
    "    \n",
    "    plt.subplots(figsize=(12, 8))\n",
    "    plot_columns = pca_2.fit_transform(train)\n",
    "    \n",
    "     \n",
    "    #plt.scatter(x=plot_columns[:,0], y=plot_columns[:,1], c=model.labels_, s=200)\n",
    "\n",
    "    sc = plt.scatter(x=plot_columns[:,0], y=plot_columns[:,1], c=model.labels_, s=200)\n",
    " \n",
    "    plt.xlabel('Canonical variable 1')\n",
    "    plt.ylabel('Canonical variable 2')\n",
    "    plt.title('Scatterplot of Canonical Variables for '+str(n)+' Clusters')\n",
    "    plt.show()\n",
    "    return model"
   ]
  },
  {
   "cell_type": "code",
   "execution_count": 177,
   "metadata": {
    "collapsed": true
   },
   "outputs": [],
   "source": [
    "columns = ['country','income','alcohol','army','bcancer','co2','female-employ','net-rate','life', 'polity',\n",
    "           'relectricperperson', 'suicideper100th', 'employ','urban']\n",
    "\n",
    "cluster_cols = columns.copy()\n",
    "for column in ['country', 'life']:\n",
    "    cluster_cols.remove(column)\n",
    "    \n",
    "#cluster_cols = ['income','alcohol', 'net-rate' ]    "
   ]
  },
  {
   "cell_type": "code",
   "execution_count": 178,
   "metadata": {
    "collapsed": false
   },
   "outputs": [],
   "source": [
    "# Rename columns for clarity                                    \n",
    "data0.columns = columns\n",
    "\n",
    "# converting to numeric values and parsing (numeric invalids=NaN)\n",
    "data0 = to_num( cluster_cols+['life'], data0 )\n",
    "\n",
    "# Remove rows with nan values\n",
    "data0 = data0.dropna(axis=0, how='any')\n",
    "\n",
    "# Copy dataframe for preserve original\n",
    "data1 = data0.copy()"
   ]
  },
  {
   "cell_type": "code",
   "execution_count": 179,
   "metadata": {
    "collapsed": false
   },
   "outputs": [],
   "source": [
    "# Subset clustering variables\n",
    "cluster = data1[cluster_cols]\n",
    "#print (cluster)"
   ]
  },
  {
   "cell_type": "code",
   "execution_count": 180,
   "metadata": {
    "collapsed": true
   },
   "outputs": [],
   "source": [
    "# standardize clustering variables to have mean=0 and sd=1\n",
    "cluster_s=cluster.copy()\n",
    "\n",
    "for c in cluster_s:\n",
    "    cluster_s[c]=preprocessing.scale(cluster_s[c].astype('float64'))\n",
    "\n",
    "#print(cluster_s)"
   ]
  },
  {
   "cell_type": "code",
   "execution_count": 181,
   "metadata": {
    "collapsed": false
   },
   "outputs": [],
   "source": [
    "# split data into train and test sets\n",
    "clus_train, clus_test =  train_test_split(cluster_s, test_size=.3, random_state=123)\n"
   ]
  },
  {
   "cell_type": "code",
   "execution_count": 182,
   "metadata": {
    "collapsed": false
   },
   "outputs": [],
   "source": [
    "# k-means cluster analysis for 1-9 clusters                                                           \n",
    "from scipy.spatial.distance import cdist\n",
    "range_clusters=range(1,9)\n",
    "meandist=[]\n",
    "\n",
    "for k in range_clusters:\n",
    "    model=KMeans(n_clusters=k)\n",
    "    model.fit(clus_train)\n",
    "    clusassign=model.predict(clus_train)\n",
    "    meandist.append(sum(np.min(cdist(clus_train, model.cluster_centers_, 'euclidean'), axis=1)) \n",
    "    / clus_train.shape[0])\n"
   ]
  },
  {
   "cell_type": "code",
   "execution_count": 183,
   "metadata": {
    "collapsed": false
   },
   "outputs": [
    {
     "name": "stdout",
     "output_type": "stream",
     "text": [
      "[3.1108099467242418, 2.6067405118778573, 2.3378498636470839, 2.1875343243904761, 2.0049697005947835, 1.9229146469088039, 1.8473593975658014, 1.7665778795883131]\n"
     ]
    }
   ],
   "source": [
    "print (meandist)    "
   ]
  },
  {
   "cell_type": "code",
   "execution_count": 184,
   "metadata": {
    "collapsed": false
   },
   "outputs": [
    {
     "data": {
      "image/png": "[encoded data removed]",
      "text/plain": [
       "<matplotlib.figure.Figure at 0x7fc89504e7f0>"
      ]
     },
     "metadata": {},
     "output_type": "display_data"
    }
   ],
   "source": [
    "\"\"\"\n",
    "Plot average distance from observations from the cluster centroid\n",
    "to use the Elbow Method to identify number of clusters to choose\n",
    "\"\"\"\n",
    "plt.subplots(figsize=(12, 8))\n",
    "plt.plot(range_clusters, meandist)\n",
    "plt.xlabel('Number of clusters')\n",
    "plt.ylabel('Average distance')\n",
    "plt.title('Selecting k with the Elbow Method')\n",
    "\n",
    "plt.show()\n"
   ]
  },
  {
   "cell_type": "code",
   "execution_count": 185,
   "metadata": {
    "collapsed": false
   },
   "outputs": [
    {
     "data": {
      "image/png": "[encoded data removed]",
      "text/plain": [
       "<matplotlib.figure.Figure at 0x7fc895080438>"
      ]
     },
     "metadata": {},
     "output_type": "display_data"
    }
   ],
   "source": [
    "# Interpret 3 cluster solution\n",
    "model = interpret_clusters(6, clus_train)"
   ]
  },
  {
   "cell_type": "code",
   "execution_count": 186,
   "metadata": {
    "collapsed": false
   },
   "outputs": [],
   "source": [
    "#model = models[2][0]\n",
    "\n",
    "clus_train.reset_index(level=0, inplace=True)\n",
    "cluslist=list(clus_train['index'])\n",
    "labels=list(model.labels_)\n",
    "\n",
    "newlist=dict(zip(cluslist, labels))\n",
    "newclus=pd.DataFrame.from_dict(newlist, orient='index')\n",
    "newclus.columns = ['cluster']"
   ]
  },
  {
   "cell_type": "code",
   "execution_count": 187,
   "metadata": {
    "collapsed": false
   },
   "outputs": [
    {
     "data": {
      "text/plain": [
       "2    27\n",
       "4    18\n",
       "1    14\n",
       "0    12\n",
       "3    10\n",
       "5     3\n",
       "Name: cluster, dtype: int64"
      ]
     },
     "execution_count": 187,
     "metadata": {},
     "output_type": "execute_result"
    }
   ],
   "source": [
    "newclus.reset_index(level=0, inplace=True)\n",
    "merged_train=pd.merge(clus_train, newclus, on='index')\n",
    "merged_train.head(n=100)\n",
    "merged_train.cluster.value_counts()"
   ]
  },
  {
   "cell_type": "code",
   "execution_count": 188,
   "metadata": {
    "collapsed": false
   },
   "outputs": [
    {
     "name": "stdout",
     "output_type": "stream",
     "text": [
      "Clustering variable means by cluster\n",
      "             index    income   alcohol      army   bcancer       co2  \\\n",
      "cluster                                                                \n",
      "0       120.000000 -0.398503 -1.229453  1.465067 -0.642562 -0.163962   \n",
      "1       104.500000  1.689797  0.720297 -0.457375  1.519534  0.282473   \n",
      "2        92.370370 -0.492649 -0.123528 -0.390097 -0.384317 -0.147163   \n",
      "3        89.800000 -0.229030  1.565672 -0.065280  0.352798 -0.146155   \n",
      "4       130.555556 -0.695476 -0.635117 -0.441413 -0.816329 -0.070053   \n",
      "5       140.000000  2.052627 -1.073743  1.874411  0.734091 -0.210512   \n",
      "\n",
      "         female-employ  net-rate    polity  relectricperperson  \\\n",
      "cluster                                                          \n",
      "0            -1.644191 -0.371289 -1.356611           -0.133186   \n",
      "1             0.256264  1.325629  0.844124            0.781501   \n",
      "2            -0.240065 -0.498376  0.261200           -0.435015   \n",
      "3             0.209535  0.728993  0.187864           -0.025799   \n",
      "4             1.045720 -0.948072 -0.480969           -0.567180   \n",
      "5            -0.021611  1.264268 -0.788983            1.083740   \n",
      "\n",
      "         suicideper100th    employ     urban  \n",
      "cluster                                       \n",
      "0              -0.904013 -1.128687 -0.059742  \n",
      "1               0.300103 -0.040391  0.849103  \n",
      "2              -0.358222 -0.074633  0.049090  \n",
      "3               1.876486 -0.311640  0.232188  \n",
      "4               0.106116  0.989451 -1.233650  \n",
      "5              -0.625117  0.595309  1.741175  \n"
     ]
    }
   ],
   "source": [
    "clustergrp = merged_train.groupby('cluster').mean()\n",
    "print (\"Clustering variable means by cluster\")\n",
    "print(clustergrp)"
   ]
  },
  {
   "cell_type": "code",
   "execution_count": 189,
   "metadata": {
    "collapsed": false
   },
   "outputs": [
    {
     "name": "stdout",
     "output_type": "stream",
     "text": [
      "                            OLS Regression Results                            \n",
      "==============================================================================\n",
      "Dep. Variable:                   life   R-squared:                       0.474\n",
      "Model:                            OLS   Adj. R-squared:                  0.440\n",
      "Method:                 Least Squares   F-statistic:                     14.04\n",
      "Date:                Sat, 12 Nov 2016   Prob (F-statistic):           8.74e-10\n",
      "Time:                        15:25:20   Log-Likelihood:                -276.36\n",
      "No. Observations:                  84   AIC:                             564.7\n",
      "Df Residuals:                      78   BIC:                             579.3\n",
      "Df Model:                           5                                         \n",
      "Covariance Type:            nonrobust                                         \n",
      "===================================================================================\n",
      "                      coef    std err          t      P>|t|      [95.0% Conf. Int.]\n",
      "-----------------------------------------------------------------------------------\n",
      "Intercept          71.9571      1.946     36.980      0.000        68.083    75.831\n",
      "C(cluster)[T.1]     8.4281      2.652      3.178      0.002         3.149    13.707\n",
      "C(cluster)[T.2]    -3.4969      2.339     -1.495      0.139        -8.153     1.159\n",
      "C(cluster)[T.3]     1.5093      2.886      0.523      0.602        -4.236     7.255\n",
      "C(cluster)[T.4]    -9.9707      2.512     -3.969      0.000       -14.972    -4.970\n",
      "C(cluster)[T.5]     8.4146      4.351      1.934      0.057        -0.248    17.077\n",
      "==============================================================================\n",
      "Omnibus:                        8.326   Durbin-Watson:                   2.482\n",
      "Prob(Omnibus):                  0.016   Jarque-Bera (JB):                8.005\n",
      "Skew:                          -0.732   Prob(JB):                       0.0183\n",
      "Kurtosis:                       3.376   Cond. No.                         8.00\n",
      "==============================================================================\n",
      "\n",
      "Warnings:\n",
      "[1] Standard Errors assume that the covariance matrix of the errors is correctly specified.\n"
     ]
    }
   ],
   "source": [
    "# validate clusters in training data by examining cluster differences in GPA using ANOVA\n",
    "# first have to merge GPA with clustering variables and cluster assignment data \n",
    "gpa_data=data0['life']\n",
    "# split GPA data into train and test sets\n",
    "gpa_train, gpa_test = train_test_split(gpa_data, test_size=.3, random_state=123)\n",
    "gpa_train1=pd.DataFrame(gpa_train)\n",
    "gpa_train1.reset_index(level=0, inplace=True)\n",
    "merged_train_all=pd.merge(gpa_train1, merged_train, on='index')\n",
    "sub1 = merged_train_all[['life', 'cluster']].dropna()\n",
    "\n",
    "import statsmodels.formula.api as smf\n",
    "import statsmodels.stats.multicomp as multi \n",
    "\n",
    "gpamod = smf.ols(formula='life ~ C(cluster)', data=sub1).fit()\n",
    "print (gpamod.summary())"
   ]
  },
  {
   "cell_type": "code",
   "execution_count": 190,
   "metadata": {
    "collapsed": false
   },
   "outputs": [
    {
     "name": "stdout",
     "output_type": "stream",
     "text": [
      "means for life by cluster\n",
      "             life\n",
      "cluster          \n",
      "0       71.957083\n",
      "1       80.385214\n",
      "2       68.460148\n",
      "3       73.466400\n",
      "4       61.986389\n",
      "5       80.371667\n"
     ]
    }
   ],
   "source": [
    "print ('means for life by cluster')\n",
    "m1= sub1.groupby('cluster').mean()\n",
    "print (m1)\n"
   ]
  },
  {
   "cell_type": "code",
   "execution_count": 191,
   "metadata": {
    "collapsed": false
   },
   "outputs": [
    {
     "name": "stdout",
     "output_type": "stream",
     "text": [
      "standard deviations for life by cluster\n",
      "            life\n",
      "cluster         \n",
      "0       4.127489\n",
      "1       1.921582\n",
      "2       8.670045\n",
      "3       3.937562\n",
      "4       8.431088\n",
      "5       1.750005\n"
     ]
    }
   ],
   "source": [
    "print ('standard deviations for life by cluster')\n",
    "m2= sub1.groupby('cluster').std()\n",
    "print (m2)\n"
   ]
  },
  {
   "cell_type": "code",
   "execution_count": 192,
   "metadata": {
    "collapsed": false
   },
   "outputs": [
    {
     "name": "stdout",
     "output_type": "stream",
     "text": [
      "Multiple Comparison of Means - Tukey HSD,FWER=0.05\n",
      "===============================================\n",
      "group1 group2 meandiff  lower    upper   reject\n",
      "-----------------------------------------------\n",
      "  0      1     8.4281   0.6807  16.1755   True \n",
      "  0      2    -3.4969  -10.3295  3.3356  False \n",
      "  0      3     1.5093   -6.923   9.9416  False \n",
      "  0      4    -9.9707  -17.3101 -2.6313   True \n",
      "  0      5     8.4146  -4.2976  21.1267  False \n",
      "  1      2    -11.9251 -18.411  -5.4392   True \n",
      "  1      3    -6.9188  -15.0727  1.2351  False \n",
      "  1      4    -18.3988 -25.4166 -11.3811  True \n",
      "  1      5    -0.0135  -12.5428 12.5157  False \n",
      "  2      3     5.0063   -2.284  12.2965  False \n",
      "  2      4    -6.4738  -12.4663 -0.4812   True \n",
      "  2      5    11.9115  -0.0736  23.8966  False \n",
      "  3      4     -11.48  -19.2473 -3.7128   True \n",
      "  3      5     6.9053  -6.0586  19.8692  False \n",
      "  4      5    18.3853   6.1042  30.6664   True \n",
      "-----------------------------------------------\n"
     ]
    }
   ],
   "source": [
    "mc1 = multi.MultiComparison(sub1['life'], sub1['cluster'])\n",
    "res1 = mc1.tukeyhsd()\n",
    "print(res1.summary())"
   ]
  },
  {
   "cell_type": "code",
   "execution_count": null,
   "metadata": {
    "collapsed": true
   },
   "outputs": [],
   "source": []
  }
 ],
 "metadata": {
  "anaconda-cloud": {
   "attach-environment": true,
   "environment": "Root",
   "summary": "Data Analysis Tools - Week3 | Pearson Correlation | Sidon | 2016",
   "url": "https://anaconda.org/sidon/submitw4"
  },
  "kernelspec": {
   "display_name": "Python [default]",
   "language": "python",
   "name": "python3"
  },
  "language_info": {
   "codemirror_mode": {
    "name": "ipython",
    "version": 3
   },
   "file_extension": ".py",
   "mimetype": "text/x-python",
   "name": "python",
   "nbconvert_exporter": "python",
   "pygments_lexer": "ipython3",
   "version": "3.5.2"
  }
 },
 "nbformat": 4,
 "nbformat_minor": 0
}
