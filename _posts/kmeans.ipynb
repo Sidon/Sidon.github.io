{
 "cells": [
  {
   "cell_type": "code",
   "execution_count": 193,
   "metadata": {
    "collapsed": false
   },
   "outputs": [],
   "source": [
    "# -*- coding: utf-8 -*-\n",
    "\"\"\"\n",
    "Created on Sat november 05 13:18:15 2016\n",
    "@author: Sidon\n",
    "\"\"\"\n",
    "%matplotlib inline\n",
    "import pandas as pd\n",
    "import numpy as np\n",
    "from collections import OrderedDict\n",
    "from tabulate import tabulate, tabulate_formats\n",
    "import matplotlib.pyplot as plt\n",
    "from sklearn.cross_validation import train_test_split\n",
    "from sklearn import preprocessing\n",
    "from sklearn.cluster import KMeans\n",
    "from sklearn.decomposition import PCA\n",
    "import warnings\n",
    "warnings.filterwarnings('ignore')\n",
    "\n",
    "# bug fix for display formats to avoid run time errors\n",
    "pd.set_option('display.float_format', lambda x:'%f'%x)\n",
    "\n",
    "usecols = ['country','incomeperperson','alcconsumption','armedforcesrate','breastcancerper100th','co2emissions',\n",
    "           'femaleemployrate','internetuserate','lifeexpectancy','polityscore', 'relectricperperson',\n",
    "           'suicideper100th', 'employrate', 'urbanrate']\n",
    "\n",
    "\n",
    "# Load from CSV\n",
    "data0 = pd.read_csv('~/dev/coursera/gapminder.csv', skip_blank_lines=True,\n",
    "                     usecols=usecols)\n"
   ]
  },
  {
   "cell_type": "code",
   "execution_count": 194,
   "metadata": {
    "collapsed": true
   },
   "outputs": [],
   "source": [
    "def to_num(list, data):\n",
    "    for dt in list :\n",
    "        data[dt] = pd.to_numeric(data[dt], 'errors=coerce')\n",
    "    return data    \n",
    "        "
   ]
  },
  {
   "cell_type": "code",
   "execution_count": 195,
   "metadata": {
    "collapsed": false
   },
   "outputs": [],
   "source": [
    "\n",
    "def interpret_clusters(n, train):\n",
    "    \n",
    "    model=KMeans(n_clusters=n)\n",
    "    model.fit(train)\n",
    "    \n",
    "    # plot clusters\n",
    "    pca_2 = PCA(2)\n",
    "    \n",
    "    plt.subplots(figsize=(12, 8))\n",
    "    plot_columns = pca_2.fit_transform(train)\n",
    "\n",
    "    sc = plt.scatter(x=plot_columns[:,0], y=plot_columns[:,1], c=model.labels_, s=200)\n",
    " \n",
    "    plt.xlabel('Canonical variable 1')\n",
    "    plt.ylabel('Canonical variable 2')\n",
    "    plt.title('Scatterplot of Canonical Variables for '+str(n)+' Clusters')\n",
    "    plt.show()\n",
    "    return model"
   ]
  },
  {
   "cell_type": "code",
   "execution_count": 196,
   "metadata": {
    "collapsed": true
   },
   "outputs": [],
   "source": [
    "columns = ['country','income','alcohol','army','bcancer','co2','female-employ','net-rate','life', 'polity',\n",
    "           'relectricperperson', 'suicideper100th', 'employ','urban']\n",
    "\n",
    "cluster_cols = columns.copy()\n",
    "for column in ['country', 'life']:\n",
    "    cluster_cols.remove(column)\n",
    "    \n",
    "#cluster_cols = ['income','alcohol', 'net-rate' ]    "
   ]
  },
  {
   "cell_type": "code",
   "execution_count": 197,
   "metadata": {
    "collapsed": false
   },
   "outputs": [],
   "source": [
    "# Rename columns for clarity                                    \n",
    "data0.columns = columns\n",
    "\n",
    "# converting to numeric values and parsing (numeric invalids=NaN)\n",
    "data0 = to_num( cluster_cols+['life'], data0 )\n",
    "\n",
    "# Remove rows with nan values\n",
    "data0 = data0.dropna(axis=0, how='any')\n",
    "\n",
    "# Copy dataframe for preserve original\n",
    "data1 = data0.copy()"
   ]
  },
  {
   "cell_type": "code",
   "execution_count": 198,
   "metadata": {
    "collapsed": false
   },
   "outputs": [],
   "source": [
    "# Subset clustering variables\n",
    "cluster = data1[cluster_cols]\n",
    "#print (cluster)"
   ]
  },
  {
   "cell_type": "code",
   "execution_count": 199,
   "metadata": {
    "collapsed": true
   },
   "outputs": [],
   "source": [
    "# standardize clustering variables to have mean=0 and sd=1\n",
    "cluster_s=cluster.copy()\n",
    "\n",
    "for c in cluster_s:\n",
    "    cluster_s[c]=preprocessing.scale(cluster_s[c].astype('float64'))\n",
    "\n",
    "#print(cluster_s)"
   ]
  },
  {
   "cell_type": "code",
   "execution_count": 200,
   "metadata": {
    "collapsed": false
   },
   "outputs": [],
   "source": [
    "# split data into train and test sets\n",
    "clus_train, clus_test =  train_test_split(cluster_s, test_size=.3, random_state=123)\n"
   ]
  },
  {
   "cell_type": "code",
   "execution_count": 201,
   "metadata": {
    "collapsed": false
   },
   "outputs": [],
   "source": [
    "# k-means cluster analysis for 1-9 clusters                                                           \n",
    "from scipy.spatial.distance import cdist\n",
    "range_clusters=range(1,9)\n",
    "meandist=[]\n",
    "\n",
    "for k in range_clusters:\n",
    "    model=KMeans(n_clusters=k)\n",
    "    model.fit(clus_train)\n",
    "    clusassign=model.predict(clus_train)\n",
    "    meandist.append(sum(np.min(cdist(clus_train, model.cluster_centers_, 'euclidean'), axis=1)) \n",
    "    / clus_train.shape[0])\n"
   ]
  },
  {
   "cell_type": "code",
   "execution_count": 202,
   "metadata": {
    "collapsed": false
   },
   "outputs": [
    {
     "name": "stdout",
     "output_type": "stream",
     "text": [
      "[3.1108099467242418, 2.6067405118778573, 2.3378498636470839, 2.1875343243904761, 2.001648110406014, 1.9536646453980457, 1.8581314669831883, 1.7708652244099634]\n"
     ]
    }
   ],
   "source": [
    "print (meandist)    "
   ]
  },
  {
   "cell_type": "code",
   "execution_count": 203,
   "metadata": {
    "collapsed": false
   },
   "outputs": [
    {
     "data": {
      "image/png": "[encoded data removed]",
      "text/plain": [
       "<matplotlib.figure.Figure at 0x7fc89504e048>"
      ]
     },
     "metadata": {},
     "output_type": "display_data"
    }
   ],
   "source": [
    "\"\"\"\n",
    "Plot average distance from observations from the cluster centroid\n",
    "to use the Elbow Method to identify number of clusters to choose\n",
    "\"\"\"\n",
    "plt.subplots(figsize=(12, 8))\n",
    "plt.plot(range_clusters, meandist)\n",
    "plt.xlabel('Number of clusters')\n",
    "plt.ylabel('Average distance')\n",
    "plt.title('Selecting k with the Elbow Method')\n",
    "\n",
    "plt.show()\n"
   ]
  },
  {
   "cell_type": "code",
   "execution_count": 204,
   "metadata": {
    "collapsed": false
   },
   "outputs": [
    {
     "data": {
      "image/png": "[encoded data removed]",
      "text/plain": [
       "<matplotlib.figure.Figure at 0x7fc894ff0a20>"
      ]
     },
     "metadata": {},
     "output_type": "display_data"
    }
   ],
   "source": [
    "# Interpret 3 cluster solution\n",
    "model = interpret_clusters(6, clus_train)"
   ]
  },
  {
   "cell_type": "code",
   "execution_count": 205,
   "metadata": {
    "collapsed": false
   },
   "outputs": [],
   "source": [
    "#model = models[2][0]\n",
    "\n",
    "clus_train.reset_index(level=0, inplace=True)\n",
    "cluslist=list(clus_train['index'])\n",
    "labels=list(model.labels_)\n",
    "\n",
    "newlist=dict(zip(cluslist, labels))\n",
    "newclus=pd.DataFrame.from_dict(newlist, orient='index')\n",
    "newclus.columns = ['cluster']"
   ]
  },
  {
   "cell_type": "code",
   "execution_count": 206,
   "metadata": {
    "collapsed": false
   },
   "outputs": [
    {
     "data": {
      "text/plain": [
       "1    22\n",
       "4    20\n",
       "3    14\n",
       "2    13\n",
       "5    11\n",
       "0     4\n",
       "Name: cluster, dtype: int64"
      ]
     },
     "execution_count": 206,
     "metadata": {},
     "output_type": "execute_result"
    }
   ],
   "source": [
    "newclus.reset_index(level=0, inplace=True)\n",
    "merged_train=pd.merge(clus_train, newclus, on='index')\n",
    "merged_train.head(n=100)\n",
    "merged_train.cluster.value_counts()"
   ]
  },
  {
   "cell_type": "code",
   "execution_count": 207,
   "metadata": {
    "collapsed": false
   },
   "outputs": [
    {
     "name": "stdout",
     "output_type": "stream",
     "text": [
      "Clustering variable means by cluster\n",
      "             index    income   alcohol      army   bcancer       co2  \\\n",
      "cluster                                                                \n",
      "0        95.250000 -0.449754  1.575244  0.318238 -0.099987 -0.042761   \n",
      "1        96.409091 -0.477989 -0.075115 -0.365878 -0.409090 -0.192537   \n",
      "2       122.000000 -0.422274 -1.243002  1.358967 -0.561217 -0.165132   \n",
      "3       106.714286  2.054106  0.380889  0.006889  1.412843  0.253898   \n",
      "4       118.100000 -0.700819 -0.625534 -0.483895 -0.820442 -0.041124   \n",
      "5       101.909091 -0.001287  1.062515 -0.330803  0.686120 -0.138079   \n",
      "\n",
      "         female-employ  net-rate    polity  relectricperperson  \\\n",
      "cluster                                                          \n",
      "0             0.465595  0.175307 -0.643776           -0.271658   \n",
      "1            -0.000642 -0.408808  0.324670           -0.415649   \n",
      "2            -1.671753 -0.402674 -1.243898           -0.166937   \n",
      "3             0.275823  1.504251  0.504679            1.011722   \n",
      "4             0.800472 -1.002929 -0.524971           -0.588189   \n",
      "5            -0.159755  0.653727  0.771092            0.034742   \n",
      "\n",
      "         suicideper100th    employ     urban  \n",
      "cluster                                       \n",
      "0               2.918003 -0.052769  0.343811  \n",
      "1              -0.663585  0.126441  0.161256  \n",
      "2              -0.797686 -1.097998 -0.150308  \n",
      "3               0.180774  0.124401  0.941468  \n",
      "4               0.268958  0.813742 -1.227848  \n",
      "5               0.715244 -0.541659  0.567565  \n"
     ]
    }
   ],
   "source": [
    "clustergrp = merged_train.groupby('cluster').mean()\n",
    "print (\"Clustering variable means by cluster\")\n",
    "print(clustergrp)"
   ]
  },
  {
   "cell_type": "code",
   "execution_count": 208,
   "metadata": {
    "collapsed": false
   },
   "outputs": [
    {
     "name": "stdout",
     "output_type": "stream",
     "text": [
      "                            OLS Regression Results                            \n",
      "==============================================================================\n",
      "Dep. Variable:                   life   R-squared:                       0.536\n",
      "Model:                            OLS   Adj. R-squared:                  0.506\n",
      "Method:                 Least Squares   F-statistic:                     18.01\n",
      "Date:                Sat, 12 Nov 2016   Prob (F-statistic):           7.77e-12\n",
      "Time:                        16:12:59   Log-Likelihood:                -271.09\n",
      "No. Observations:                  84   AIC:                             554.2\n",
      "Df Residuals:                      78   BIC:                             568.8\n",
      "Df Model:                           5                                         \n",
      "Covariance Type:            nonrobust                                         \n",
      "===================================================================================\n",
      "                      coef    std err          t      P>|t|      [95.0% Conf. Int.]\n",
      "-----------------------------------------------------------------------------------\n",
      "Intercept          69.6050      3.165     21.991      0.000        63.304    75.906\n",
      "C(cluster)[T.1]     0.9005      3.441      0.262      0.794        -5.950     7.751\n",
      "C(cluster)[T.2]     1.8505      3.619      0.511      0.611        -5.355     9.056\n",
      "C(cluster)[T.3]    11.2663      3.589      3.139      0.002         4.121    18.411\n",
      "C(cluster)[T.4]    -8.8198      3.467     -2.544      0.013       -15.723    -1.917\n",
      "C(cluster)[T.5]     5.1651      3.696      1.397      0.166        -2.193    12.523\n",
      "==============================================================================\n",
      "Omnibus:                       23.068   Durbin-Watson:                   2.218\n",
      "Prob(Omnibus):                  0.000   Jarque-Bera (JB):               36.031\n",
      "Skew:                          -1.132   Prob(JB):                     1.50e-08\n",
      "Kurtosis:                       5.274   Cond. No.                         12.5\n",
      "==============================================================================\n",
      "\n",
      "Warnings:\n",
      "[1] Standard Errors assume that the covariance matrix of the errors is correctly specified.\n"
     ]
    }
   ],
   "source": [
    "# validate clusters in training data by examining cluster differences in GPA using ANOVA\n",
    "# first have to merge GPA with clustering variables and cluster assignment data \n",
    "gpa_data=data0['life']\n",
    "# split GPA data into train and test sets\n",
    "gpa_train, gpa_test = train_test_split(gpa_data, test_size=.3, random_state=123)\n",
    "gpa_train1=pd.DataFrame(gpa_train)\n",
    "gpa_train1.reset_index(level=0, inplace=True)\n",
    "merged_train_all=pd.merge(gpa_train1, merged_train, on='index')\n",
    "sub1 = merged_train_all[['life', 'cluster']].dropna()\n",
    "\n",
    "import statsmodels.formula.api as smf\n",
    "import statsmodels.stats.multicomp as multi \n",
    "\n",
    "gpamod = smf.ols(formula='life ~ C(cluster)', data=sub1).fit()\n",
    "print (gpamod.summary())"
   ]
  },
  {
   "cell_type": "code",
   "execution_count": 209,
   "metadata": {
    "collapsed": false
   },
   "outputs": [
    {
     "name": "stdout",
     "output_type": "stream",
     "text": [
      "means for life by cluster\n",
      "             life\n",
      "cluster          \n",
      "0       69.605000\n",
      "1       70.505545\n",
      "2       71.455538\n",
      "3       80.871286\n",
      "4       60.785150\n",
      "5       74.770091\n"
     ]
    }
   ],
   "source": [
    "print ('means for life by cluster')\n",
    "m1= sub1.groupby('cluster').mean()\n",
    "print (m1)\n"
   ]
  },
  {
   "cell_type": "code",
   "execution_count": 210,
   "metadata": {
    "collapsed": false
   },
   "outputs": [
    {
     "name": "stdout",
     "output_type": "stream",
     "text": [
      "standard deviations for life by cluster\n",
      "            life\n",
      "cluster         \n",
      "0       2.218008\n",
      "1       7.058163\n",
      "2       4.345871\n",
      "3       1.184780\n",
      "4       8.054975\n",
      "5       7.662149\n"
     ]
    }
   ],
   "source": [
    "print ('standard deviations for life by cluster')\n",
    "m2= sub1.groupby('cluster').std()\n",
    "print (m2)\n"
   ]
  },
  {
   "cell_type": "code",
   "execution_count": 211,
   "metadata": {
    "collapsed": false
   },
   "outputs": [
    {
     "name": "stdout",
     "output_type": "stream",
     "text": [
      "Multiple Comparison of Means - Tukey HSD,FWER=0.05\n",
      "===============================================\n",
      "group1 group2 meandiff  lower    upper   reject\n",
      "-----------------------------------------------\n",
      "  0      1     0.9005  -9.1526  10.9537  False \n",
      "  0      2     1.8505  -8.7244  12.4255  False \n",
      "  0      3    11.2663   0.7806   21.752   True \n",
      "  0      4    -8.8199   -18.95   1.3103  False \n",
      "  0      5     5.1651  -5.6337  15.9639  False \n",
      "  1      2      0.95    -5.52     7.42   False \n",
      "  1      3    10.3657   4.0426  16.6889   True \n",
      "  1      4    -9.7204  -15.4346 -4.0062   True \n",
      "  1      5     4.2645  -2.5652  11.0943  False \n",
      "  2      3     9.4157   2.2921  16.5394   True \n",
      "  2      4    -10.6704 -17.2595 -4.0813   True \n",
      "  2      5     3.3146  -4.2624  10.8915  False \n",
      "  3      4    -20.0861 -26.531  -13.6412  True \n",
      "  3      5    -6.1012  -13.5531  1.3507  False \n",
      "  4      5    13.9849   7.0423  20.9276   True \n",
      "-----------------------------------------------\n"
     ]
    }
   ],
   "source": [
    "mc1 = multi.MultiComparison(sub1['life'], sub1['cluster'])\n",
    "res1 = mc1.tukeyhsd()\n",
    "print(res1.summary())"
   ]
  },
  {
   "cell_type": "code",
   "execution_count": null,
   "metadata": {
    "collapsed": true
   },
   "outputs": [],
   "source": []
  }
 ],
 "metadata": {
  "anaconda-cloud": {
   "attach-environment": true,
   "environment": "Root",
   "summary": "Data Analysis Tools - Week3 | Pearson Correlation | Sidon | 2016",
   "url": "https://anaconda.org/sidon/submitw4"
  },
  "kernelspec": {
   "display_name": "Python [default]",
   "language": "python",
   "name": "python3"
  },
  "language_info": {
   "codemirror_mode": {
    "name": "ipython",
    "version": 3
   },
   "file_extension": ".py",
   "mimetype": "text/x-python",
   "name": "python",
   "nbconvert_exporter": "python",
   "pygments_lexer": "ipython3",
   "version": "3.5.2"
  }
 },
 "nbformat": 4,
 "nbformat_minor": 0
}
