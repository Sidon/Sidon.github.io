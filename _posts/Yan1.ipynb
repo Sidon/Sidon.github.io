{
 "cells": [
  {
   "cell_type": "code",
   "execution_count": 14,
   "metadata": {
    "collapsed": true
   },
   "outputs": [],
   "source": [
    "import numpy\n",
    "import pandas\n",
    "import matplotlib.pyplot as plt\n",
    "import statsmodels.api as sm\n",
    "import statsmodels.formula.api as smf\n",
    "import seaborn\n",
    "import statistics\n",
    "\n",
    "# bug fix for display formats to avoid run time errors\n",
    "pandas.set_option('display.float_format', lambda x:'%.2f'%x)\n",
    "\n",
    "#load the data\n",
    "data = pandas.read_csv('~/dev/coursera/separatedData.csv')"
   ]
  },
  {
   "cell_type": "code",
   "execution_count": 15,
   "metadata": {
    "collapsed": true
   },
   "outputs": [],
   "source": [
    "# convert to numeric format\n",
    "data[\"breastCancer100th\"] = pandas.to_numeric(data[\"breastCancer100th\"], errors='coerce')\n",
    "data[\"meanSugarPerson\"]   = pandas.to_numeric(data[\"meanSugarPerson\"], errors='coerce')\n",
    "data[\"meanFoodPerson\"]   = pandas.to_numeric(data[\"meanFoodPerson\"], errors='coerce')\n",
    "data[\"meanCholesterol\"]   = pandas.to_numeric(data[\"meanCholesterol\"], errors='coerce')"
   ]
  },
  {
   "cell_type": "code",
   "execution_count": 16,
   "metadata": {
    "collapsed": true
   },
   "outputs": [],
   "source": [
    "# listwise deletion of missing values\n",
    "sub1 = data[['breastCancer100th', 'meanSugarPerson', 'meanFoodPerson', 'meanCholesterol']].dropna()\n",
    "\n",
    "# Create the conditions to a new variable named sugar_consumption that will categorize the meanSugarPerson answers\n",
    "meanIncidence = statistics.mean(sub1['breastCancer100th'])\n",
    "\n",
    "def incidence_cancer (row):\n",
    "    if row['breastCancer100th'] <= meanIncidence : return 0   # Incidence of breast cancer is below the average of the incidence of all countries.\n",
    "    if row['breastCancer100th'] > meanIncidence  : return 1   # incidence of breast cancer is above the average of the incidence of all countries.\n",
    "\n",
    "# Add the new variable sugar_consumption to subData\n",
    "sub1['incidence_cancer'] = sub1.apply (lambda row: incidence_cancer (row),axis=1)\n",
    "\n",
    "# Create the conditions to a new variable named sugar_consumption that will categorize the meanSugarPerson answers\n",
    "def sugar_consumption (row):\n",
    "   if 0 < row['meanSugarPerson'] <= 30 : return 0    # Desirable between 0 and 30 g.\n",
    "   if 30 < row['meanSugarPerson'] <= 60 : return 1   # Raised between 30 and 60 g.\n",
    "   if 60 < row['meanSugarPerson'] <= 90 : return 2   # Borderline high between 60 and 90 g.\n",
    "   if 90 < row['meanSugarPerson'] <= 120 : return 3  # High between 90 and 120 g.\n",
    "   if row['meanSugarPerson'] > 120 : return 4        # Very high under 120g.\n",
    "\n",
    "# Add the new variable sugar_consumption to subData\n",
    "sub1['sugar_consumption'] = sub1.apply (lambda row: sugar_consumption (row),axis=1)"
   ]
  },
  {
   "cell_type": "code",
   "execution_count": 17,
   "metadata": {
    "collapsed": true
   },
   "outputs": [],
   "source": [
    "# Create the conditions to a new variable named food_consumption that will categorize the meanFoodPerson answers\n",
    "meanFood = statistics.mean(sub1['meanFoodPerson'])\n",
    "\n",
    "def food_consumption (row):\n",
    "    if row['meanFoodPerson'] <= meanFood  : return 0   # food consumption below the average of the food consumption of all countries.\n",
    "    if row['meanFoodPerson'] > meanFood   : return 1   # food consumption above the average of the food consumption of all countries."
   ]
  },
  {
   "cell_type": "code",
   "execution_count": 18,
   "metadata": {
    "collapsed": true
   },
   "outputs": [],
   "source": [
    "\n",
    "# Add the new variable food_consumption to subData\n",
    "sub1['food_consumption'] = sub1.apply (lambda row: food_consumption (row),axis=1)\n",
    "\n",
    "# Create the conditions to a new variable named cholesterol_blood that will categorize the meanCholesterol answers\n",
    "def cholesterol_blood (row):\n",
    "\n",
    "   if row['meanCholesterol'] <= 5.2 : return 0         # (0) Desirable below 5.2 mmol/L\n",
    "   if 5.2 < row['meanCholesterol'] <= 6.2 : return 1   # (1) Borderline high between 5.2 and 6.2 mmol/L\n",
    "   if row['meanCholesterol'] > 6.2 : return 2          # (2) High above 6.2 mmol/L\n",
    "\n",
    "# Add the new variable sugar_consumption to subData\n",
    "sub1['cholesterol_blood'] = sub1.apply (lambda row: cholesterol_blood (row),axis=1)"
   ]
  },
  {
   "cell_type": "code",
   "execution_count": 19,
   "metadata": {
    "collapsed": false
   },
   "outputs": [
    {
     "name": "stdout",
     "output_type": "stream",
     "text": [
      "Optimization terminated successfully.\n",
      "         Current function value: 0.273398\n",
      "         Iterations 8\n",
      "                           Logit Regression Results                           \n",
      "==============================================================================\n",
      "Dep. Variable:       incidence_cancer   No. Observations:                  129\n",
      "Model:                          Logit   Df Residuals:                      125\n",
      "Method:                           MLE   Df Model:                            3\n",
      "Date:                Fri, 07 Oct 2016   Pseudo R-squ.:                  0.5627\n",
      "Time:                        22:56:34   Log-Likelihood:                -35.268\n",
      "converged:                       True   LL-Null:                       -80.654\n",
      "                                        LLR p-value:                 1.496e-19\n",
      "=====================================================================================\n",
      "                        coef    std err          z      P>|z|      [95.0% Conf. Int.]\n",
      "-------------------------------------------------------------------------------------\n",
      "Intercept            -4.9331      1.049     -4.705      0.000        -6.988    -2.878\n",
      "sugar_consumption     0.5915      0.317      1.864      0.062        -0.031     1.214\n",
      "food_consumption      3.0577      0.827      3.696      0.000         1.436     4.679\n",
      "cholesterol_blood     2.1235      0.650      3.267      0.001         0.849     3.398\n",
      "=====================================================================================\n"
     ]
    }
   ],
   "source": [
    "# Logistic Regression analysis\n",
    "lreg1 = smf.logit(formula = 'incidence_cancer ~ sugar_consumption + food_consumption + cholesterol_blood', data = sub1).fit()\n",
    "print (lreg1.summary())"
   ]
  },
  {
   "cell_type": "code",
   "execution_count": 20,
   "metadata": {
    "collapsed": false
   },
   "outputs": [
    {
     "name": "stdout",
     "output_type": "stream",
     "text": [
      "                   Lower CI  Upper CI    OR\n",
      "Intercept              0.00      0.06  0.01\n",
      "sugar_consumption      0.97      3.37  1.81\n",
      "food_consumption       4.20    107.69 21.28\n",
      "cholesterol_blood      2.34     29.90  8.36\n"
     ]
    }
   ],
   "source": [
    "# odd ratios with 95% confidence intervals\n",
    "params = lreg1.params\n",
    "conf = lreg1.conf_int()\n",
    "conf['OR'] = params\n",
    "conf.columns = ['Lower CI', 'Upper CI', 'OR']\n",
    "print (numpy.exp(conf))"
   ]
  }
 ],
 "metadata": {
  "anaconda-cloud": {},
  "kernelspec": {
   "display_name": "Python [Root]",
   "language": "python",
   "name": "Python [Root]"
  },
  "language_info": {
   "codemirror_mode": {
    "name": "ipython",
    "version": 3
   },
   "file_extension": ".py",
   "mimetype": "text/x-python",
   "name": "python",
   "nbconvert_exporter": "python",
   "pygments_lexer": "ipython3",
   "version": "3.5.2"
  }
 },
 "nbformat": 4,
 "nbformat_minor": 0
}
